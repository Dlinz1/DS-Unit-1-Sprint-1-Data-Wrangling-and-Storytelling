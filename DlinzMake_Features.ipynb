{
  "nbformat": 4,
  "nbformat_minor": 0,
  "metadata": {
    "colab": {
      "name": "DlinzMake_Features.ipynb",
      "provenance": [],
      "collapsed_sections": [
        "c6UBXPhQnxzj",
        "r1SkaCMTsCyT"
      ],
      "include_colab_link": true
    },
    "kernelspec": {
      "display_name": "Python 3",
      "language": "python",
      "name": "python3"
    },
    "language_info": {
      "codemirror_mode": {
        "name": "ipython",
        "version": 3
      },
      "file_extension": ".py",
      "mimetype": "text/x-python",
      "name": "python",
      "nbconvert_exporter": "python",
      "pygments_lexer": "ipython3",
      "version": "3.7.1"
    }
  },
  "cells": [
    {
      "cell_type": "markdown",
      "metadata": {
        "id": "view-in-github",
        "colab_type": "text"
      },
      "source": [
        "<a href=\"https://colab.research.google.com/github/Dlinz1/DS-Unit-1-Sprint-1-Data-Wrangling-and-Storytelling/blob/master/DlinzMake_Features.ipynb\" target=\"_parent\"><img src=\"https://colab.research.google.com/assets/colab-badge.svg\" alt=\"Open In Colab\"/></a>"
      ]
    },
    {
      "cell_type": "markdown",
      "metadata": {
        "id": "7fknoKxGz_jk",
        "colab_type": "text"
      },
      "source": [
        "Lambda School Data Science\n",
        "\n",
        "*Unit 1, Sprint 1, Module 2*\n",
        "\n",
        "---"
      ]
    },
    {
      "cell_type": "markdown",
      "metadata": {
        "colab_type": "text",
        "id": "qacqiXogluN_"
      },
      "source": [
        "# Make Features \n",
        "\n",
        "- Student should be able to understand the purpose of feature engineering\n",
        "- Student should be able to work with strings in pandas\n",
        "- Student should be able to work with dates and times in pandas\n",
        "- Student should be able to modify or create columns of a dataframe using the `.apply()` function\n",
        "\n",
        "\n",
        "Helpful Links:\n",
        "- [Minimally Sufficient Pandas](https://medium.com/dunder-data/minimally-sufficient-pandas-a8e67f2a2428)\n",
        "- [Feature Engineering](https://en.wikipedia.org/wiki/Feature_engineering)\n",
        "- Python Data Science Handbook\n",
        "  - [Chapter 3.10](https://jakevdp.github.io/PythonDataScienceHandbook/03.10-working-with-strings.html), Vectorized String Operations\n",
        "  - [Chapter 3.11](https://jakevdp.github.io/PythonDataScienceHandbook/03.11-working-with-time-series.html), Working with Time Series\n",
        "- [Lambda Learning Method for DS - By Ryan Herr](https://docs.google.com/document/d/1ubOw9B3Hfip27hF2ZFnW3a3z9xAgrUDRReOEo-FHCVs/edit?usp=sharing)"
      ]
    },
    {
      "cell_type": "markdown",
      "metadata": {
        "id": "LZSXUzBm3yvk",
        "colab_type": "text"
      },
      "source": [
        "# [Objective](#feature-engineering) - The Purpose of Feature Engineering\n",
        "\n"
      ]
    },
    {
      "cell_type": "markdown",
      "metadata": {
        "id": "MGHzNUcT30ui",
        "colab_type": "text"
      },
      "source": [
        "## Overview\n",
        "\n",
        "Feature Engineering is the process of using a combination of domain knowledge, creativity and the pre-existing columns of a dataset to create completely new columns.\n",
        "\n",
        " Machine Learning models try to detect patterns in the data and then associate those patterns with certain predictions. The hope is that by creating new columns on our dataset that we can expose our model to new patterns in the data so that it can make better and better predictions.\n",
        "\n",
        "This is largely a matter of understanding how to work with individual columns of a dataframe with Pandas --which is what we'll be practicing today!"
      ]
    },
    {
      "cell_type": "markdown",
      "metadata": {
        "id": "i6vOmj_i35ef",
        "colab_type": "text"
      },
      "source": [
        "## Follow Along\n",
        "\n",
        "Columns of a dataframe hold each hold a specific type of data. Lets inspect some of the common datatypes found in datasets and then we'll make a new feature on a dataset using pre-existing columns."
      ]
    },
    {
      "cell_type": "code",
      "metadata": {
        "id": "Ua6VURnC9Cny",
        "colab_type": "code",
        "colab": {}
      },
      "source": [
        "import pandas as pd"
      ],
      "execution_count": 0,
      "outputs": []
    },
    {
      "cell_type": "code",
      "metadata": {
        "id": "p_Y05YBr32O-",
        "colab_type": "code",
        "colab": {}
      },
      "source": [
        "# DATASET IN US DEPARTMENT OF HOUSING AND URBAN DEVELOPMENT\n",
        "source_url = ('https://query.data.world/s/kv3vpxr63qi47ml5azowmwvttirn47')"
      ],
      "execution_count": 0,
      "outputs": []
    },
    {
      "cell_type": "code",
      "metadata": {
        "id": "IU8ucmf4iUrS",
        "colab_type": "code",
        "colab": {}
      },
      "source": [
        "azh = pd.read_csv(source_url)"
      ],
      "execution_count": 0,
      "outputs": []
    },
    {
      "cell_type": "markdown",
      "metadata": {
        "id": "0QmscJ7n9OSB",
        "colab_type": "text"
      },
      "source": [
        "### Specific Columns hold specific kinds of data"
      ]
    },
    {
      "cell_type": "markdown",
      "metadata": {
        "id": "znph8qpr9q29",
        "colab_type": "text"
      },
      "source": [
        "Some columns hold integer values like the `BedroomAbvGr` which stands for \"Bedrooms Above Grade.\" This is the number of non-basement bedrooms in the home.\n",
        "\n",
        "For more information on specific column meanings view the [data dictionary](https://github.com/ryanleeallred/datasets/blob/master/Ames%20Housing%20Data/data_description.txt)."
      ]
    },
    {
      "cell_type": "code",
      "metadata": {
        "id": "zl-wfFZv-_fo",
        "colab_type": "code",
        "colab": {
          "base_uri": "https://localhost:8080/",
          "height": 408
        },
        "outputId": "f9553f69-63d4-4b9c-a621-039b767071b7"
      },
      "source": [
        "# Look at the first ten rows of the `BedroomAbvGr` column.\n",
        "# Looks like integers to me!\n",
        "azh.sample(10)"
      ],
      "execution_count": 5,
      "outputs": [
        {
          "output_type": "execute_result",
          "data": {
            "text/html": [
              "<div>\n",
              "<style scoped>\n",
              "    .dataframe tbody tr th:only-of-type {\n",
              "        vertical-align: middle;\n",
              "    }\n",
              "\n",
              "    .dataframe tbody tr th {\n",
              "        vertical-align: top;\n",
              "    }\n",
              "\n",
              "    .dataframe thead th {\n",
              "        text-align: right;\n",
              "    }\n",
              "</style>\n",
              "<table border=\"1\" class=\"dataframe\">\n",
              "  <thead>\n",
              "    <tr style=\"text-align: right;\">\n",
              "      <th></th>\n",
              "      <th>blkgrp</th>\n",
              "      <th>households</th>\n",
              "      <th>area_median_income</th>\n",
              "      <th>blkgrp_median_income_owners</th>\n",
              "      <th>blkgrp_median_income_renters</th>\n",
              "      <th>avg_hh_size_owners</th>\n",
              "      <th>avg_hh_size_renters</th>\n",
              "      <th>commuters_per_hh_owners</th>\n",
              "      <th>commuters_per_hh_renters</th>\n",
              "      <th>pct_renters</th>\n",
              "      <th>gross_hh_density</th>\n",
              "      <th>median_rooms_per_owner_unit</th>\n",
              "      <th>median_rooms_per_renter_unit</th>\n",
              "      <th>pct_detatched_single_family_unit</th>\n",
              "      <th>median_commute_distance</th>\n",
              "      <th>block_denstiy</th>\n",
              "      <th>employment_access_index</th>\n",
              "      <th>local_job_density</th>\n",
              "      <th>local_retail_job_density</th>\n",
              "      <th>retail_access_index</th>\n",
              "      <th>hh_type1_income</th>\n",
              "      <th>hh_type1_size</th>\n",
              "      <th>hh_type1_workers</th>\n",
              "      <th>hh_type1_ht</th>\n",
              "      <th>hh_type1_h</th>\n",
              "      <th>hh_type1_t</th>\n",
              "      <th>hh_type1_autos</th>\n",
              "      <th>hh_type1_vmt</th>\n",
              "      <th>hh_type1_transit_trips</th>\n",
              "      <th>hh_type1_ht_own</th>\n",
              "      <th>hh_type1_h_own</th>\n",
              "      <th>hh_type1_t_own</th>\n",
              "      <th>hh_type1_autos_own</th>\n",
              "      <th>hh_type1_vmt_own</th>\n",
              "      <th>hh_type1_transit_trips_own</th>\n",
              "      <th>hh_type1_ht_rent</th>\n",
              "      <th>hh_type1_h_rent</th>\n",
              "      <th>hh_type1_t_rent</th>\n",
              "      <th>hh_type1_autos_rent</th>\n",
              "      <th>hh_type1_vmt_rent</th>\n",
              "      <th>...</th>\n",
              "      <th>hh_type7_workers</th>\n",
              "      <th>hh_type7_ht</th>\n",
              "      <th>hh_type7_h</th>\n",
              "      <th>hh_type7_t</th>\n",
              "      <th>hh_type7_autos</th>\n",
              "      <th>hh_type7_vmt</th>\n",
              "      <th>hh_type7_transit_trips</th>\n",
              "      <th>hh_type7_ht_own</th>\n",
              "      <th>hh_type7_h_own</th>\n",
              "      <th>hh_type7_t_own</th>\n",
              "      <th>hh_type7_autos_own</th>\n",
              "      <th>hh_type7_vmt_own</th>\n",
              "      <th>hh_type7_transit_trips_own</th>\n",
              "      <th>hh_type7_ht_rent</th>\n",
              "      <th>hh_type7_h_rent</th>\n",
              "      <th>hh_type7_t_rent</th>\n",
              "      <th>hh_type7_autos_rent</th>\n",
              "      <th>hh_type7_vmt_rent</th>\n",
              "      <th>hh_type7_transit_trips_rent</th>\n",
              "      <th>hh_type8_income</th>\n",
              "      <th>hh_type8_size</th>\n",
              "      <th>hh_type8_workers</th>\n",
              "      <th>hh_type8_ht</th>\n",
              "      <th>hh_type8_h</th>\n",
              "      <th>hh_type8_t</th>\n",
              "      <th>hh_type8_autos</th>\n",
              "      <th>hh_type8_vmt</th>\n",
              "      <th>hh_type8_transit_trips</th>\n",
              "      <th>hh_type8_ht_own</th>\n",
              "      <th>hh_type8_h_own</th>\n",
              "      <th>hh_type8_t_own</th>\n",
              "      <th>hh_type8_autos_own</th>\n",
              "      <th>hh_type8_vmt_own</th>\n",
              "      <th>hh_type8_transit_trips_own</th>\n",
              "      <th>hh_type8_ht_rent</th>\n",
              "      <th>hh_type8_h_rent</th>\n",
              "      <th>hh_type8_t_rent</th>\n",
              "      <th>hh_type8_autos_rent</th>\n",
              "      <th>hh_type8_vmt_rent</th>\n",
              "      <th>hh_type8_transit_trips_rent</th>\n",
              "    </tr>\n",
              "  </thead>\n",
              "  <tbody>\n",
              "    <tr>\n",
              "      <th>2813</th>\n",
              "      <td>'040138161001'</td>\n",
              "      <td>NaN</td>\n",
              "      <td>NaN</td>\n",
              "      <td>NaN</td>\n",
              "      <td>NaN</td>\n",
              "      <td>NaN</td>\n",
              "      <td>NaN</td>\n",
              "      <td>NaN</td>\n",
              "      <td>NaN</td>\n",
              "      <td>NaN</td>\n",
              "      <td>NaN</td>\n",
              "      <td>NaN</td>\n",
              "      <td>NaN</td>\n",
              "      <td>NaN</td>\n",
              "      <td>NaN</td>\n",
              "      <td>NaN</td>\n",
              "      <td>NaN</td>\n",
              "      <td>NaN</td>\n",
              "      <td>NaN</td>\n",
              "      <td>NaN</td>\n",
              "      <td>NaN</td>\n",
              "      <td>NaN</td>\n",
              "      <td>NaN</td>\n",
              "      <td>NaN</td>\n",
              "      <td>NaN</td>\n",
              "      <td>NaN</td>\n",
              "      <td>NaN</td>\n",
              "      <td>NaN</td>\n",
              "      <td>NaN</td>\n",
              "      <td>NaN</td>\n",
              "      <td>NaN</td>\n",
              "      <td>NaN</td>\n",
              "      <td>NaN</td>\n",
              "      <td>NaN</td>\n",
              "      <td>NaN</td>\n",
              "      <td>NaN</td>\n",
              "      <td>NaN</td>\n",
              "      <td>NaN</td>\n",
              "      <td>NaN</td>\n",
              "      <td>NaN</td>\n",
              "      <td>...</td>\n",
              "      <td>NaN</td>\n",
              "      <td>NaN</td>\n",
              "      <td>NaN</td>\n",
              "      <td>NaN</td>\n",
              "      <td>NaN</td>\n",
              "      <td>NaN</td>\n",
              "      <td>NaN</td>\n",
              "      <td>NaN</td>\n",
              "      <td>NaN</td>\n",
              "      <td>NaN</td>\n",
              "      <td>NaN</td>\n",
              "      <td>NaN</td>\n",
              "      <td>NaN</td>\n",
              "      <td>NaN</td>\n",
              "      <td>NaN</td>\n",
              "      <td>NaN</td>\n",
              "      <td>NaN</td>\n",
              "      <td>NaN</td>\n",
              "      <td>NaN</td>\n",
              "      <td>NaN</td>\n",
              "      <td>NaN</td>\n",
              "      <td>NaN</td>\n",
              "      <td>NaN</td>\n",
              "      <td>NaN</td>\n",
              "      <td>NaN</td>\n",
              "      <td>NaN</td>\n",
              "      <td>NaN</td>\n",
              "      <td>NaN</td>\n",
              "      <td>NaN</td>\n",
              "      <td>NaN</td>\n",
              "      <td>NaN</td>\n",
              "      <td>NaN</td>\n",
              "      <td>NaN</td>\n",
              "      <td>NaN</td>\n",
              "      <td>NaN</td>\n",
              "      <td>NaN</td>\n",
              "      <td>NaN</td>\n",
              "      <td>NaN</td>\n",
              "      <td>NaN</td>\n",
              "      <td>NaN</td>\n",
              "    </tr>\n",
              "    <tr>\n",
              "      <th>3857</th>\n",
              "      <td>'040210020031'</td>\n",
              "      <td>566.0</td>\n",
              "      <td>54022.0</td>\n",
              "      <td>27442.65527</td>\n",
              "      <td>9923.47537</td>\n",
              "      <td>3.63</td>\n",
              "      <td>3.45</td>\n",
              "      <td>1.00770</td>\n",
              "      <td>0.37312</td>\n",
              "      <td>0.27385</td>\n",
              "      <td>2.45453</td>\n",
              "      <td>5.9</td>\n",
              "      <td>4.6</td>\n",
              "      <td>68.79536</td>\n",
              "      <td>32.71160</td>\n",
              "      <td>0.31224</td>\n",
              "      <td>2022.59866</td>\n",
              "      <td>0.37803</td>\n",
              "      <td>0.01414</td>\n",
              "      <td>394.06505</td>\n",
              "      <td>54022.0</td>\n",
              "      <td>4.0</td>\n",
              "      <td>2.0</td>\n",
              "      <td>49.75993</td>\n",
              "      <td>23.51288</td>\n",
              "      <td>26.24705</td>\n",
              "      <td>2.25855</td>\n",
              "      <td>29505.60</td>\n",
              "      <td>15.19271</td>\n",
              "      <td>54.29697</td>\n",
              "      <td>27.14450</td>\n",
              "      <td>27.15248</td>\n",
              "      <td>2.39</td>\n",
              "      <td>29505.60</td>\n",
              "      <td>17.23837</td>\n",
              "      <td>37.72945</td>\n",
              "      <td>13.88323</td>\n",
              "      <td>23.84622</td>\n",
              "      <td>1.91</td>\n",
              "      <td>29505.60</td>\n",
              "      <td>...</td>\n",
              "      <td>1.0</td>\n",
              "      <td>55.30006</td>\n",
              "      <td>28.94725</td>\n",
              "      <td>26.35281</td>\n",
              "      <td>1.85581</td>\n",
              "      <td>22890.60</td>\n",
              "      <td>18.07288</td>\n",
              "      <td>60.82470</td>\n",
              "      <td>33.31945</td>\n",
              "      <td>27.50525</td>\n",
              "      <td>1.99</td>\n",
              "      <td>22890.60</td>\n",
              "      <td>18.38760</td>\n",
              "      <td>40.65085</td>\n",
              "      <td>17.35388</td>\n",
              "      <td>23.29697</td>\n",
              "      <td>1.50</td>\n",
              "      <td>22890.60</td>\n",
              "      <td>17.23837</td>\n",
              "      <td>81033.0</td>\n",
              "      <td>4.0</td>\n",
              "      <td>2.0</td>\n",
              "      <td>35.89990</td>\n",
              "      <td>17.32052</td>\n",
              "      <td>18.57938</td>\n",
              "      <td>2.33855</td>\n",
              "      <td>30281.04</td>\n",
              "      <td>13.72877</td>\n",
              "      <td>39.57490</td>\n",
              "      <td>20.36207</td>\n",
              "      <td>19.21282</td>\n",
              "      <td>2.47</td>\n",
              "      <td>30281.04</td>\n",
              "      <td>16.08915</td>\n",
              "      <td>26.15524</td>\n",
              "      <td>9.25549</td>\n",
              "      <td>16.89975</td>\n",
              "      <td>1.99</td>\n",
              "      <td>30281.04</td>\n",
              "      <td>7.46996</td>\n",
              "    </tr>\n",
              "    <tr>\n",
              "      <th>1626</th>\n",
              "      <td>'040131167171'</td>\n",
              "      <td>832.0</td>\n",
              "      <td>54022.0</td>\n",
              "      <td>85612.21652</td>\n",
              "      <td>41536.00000</td>\n",
              "      <td>2.81</td>\n",
              "      <td>2.48</td>\n",
              "      <td>1.49107</td>\n",
              "      <td>1.06250</td>\n",
              "      <td>1.00000</td>\n",
              "      <td>5.75907</td>\n",
              "      <td>4.0</td>\n",
              "      <td>4.0</td>\n",
              "      <td>0.00000</td>\n",
              "      <td>9.72759</td>\n",
              "      <td>0.06230</td>\n",
              "      <td>36735.59719</td>\n",
              "      <td>4.72048</td>\n",
              "      <td>2.15391</td>\n",
              "      <td>5202.06489</td>\n",
              "      <td>54022.0</td>\n",
              "      <td>4.0</td>\n",
              "      <td>2.0</td>\n",
              "      <td>42.95533</td>\n",
              "      <td>24.98982</td>\n",
              "      <td>17.96552</td>\n",
              "      <td>1.62000</td>\n",
              "      <td>18519.84</td>\n",
              "      <td>86.76649</td>\n",
              "      <td>53.17808</td>\n",
              "      <td>32.49787</td>\n",
              "      <td>20.68021</td>\n",
              "      <td>2.02</td>\n",
              "      <td>18519.84</td>\n",
              "      <td>62.05815</td>\n",
              "      <td>42.95533</td>\n",
              "      <td>24.98982</td>\n",
              "      <td>17.96552</td>\n",
              "      <td>1.62</td>\n",
              "      <td>18519.84</td>\n",
              "      <td>...</td>\n",
              "      <td>1.0</td>\n",
              "      <td>47.33759</td>\n",
              "      <td>31.23698</td>\n",
              "      <td>16.10060</td>\n",
              "      <td>1.20000</td>\n",
              "      <td>12436.20</td>\n",
              "      <td>93.66184</td>\n",
              "      <td>59.52944</td>\n",
              "      <td>39.87228</td>\n",
              "      <td>19.65717</td>\n",
              "      <td>1.62</td>\n",
              "      <td>12436.20</td>\n",
              "      <td>63.78199</td>\n",
              "      <td>47.33759</td>\n",
              "      <td>31.23698</td>\n",
              "      <td>16.10060</td>\n",
              "      <td>1.20</td>\n",
              "      <td>12436.20</td>\n",
              "      <td>93.66184</td>\n",
              "      <td>81033.0</td>\n",
              "      <td>4.0</td>\n",
              "      <td>2.0</td>\n",
              "      <td>29.64200</td>\n",
              "      <td>16.65988</td>\n",
              "      <td>12.98212</td>\n",
              "      <td>1.70000</td>\n",
              "      <td>19582.56</td>\n",
              "      <td>83.89342</td>\n",
              "      <td>41.12500</td>\n",
              "      <td>26.24116</td>\n",
              "      <td>14.88384</td>\n",
              "      <td>2.10</td>\n",
              "      <td>19582.56</td>\n",
              "      <td>61.48354</td>\n",
              "      <td>29.64200</td>\n",
              "      <td>16.65988</td>\n",
              "      <td>12.98212</td>\n",
              "      <td>1.70</td>\n",
              "      <td>19582.56</td>\n",
              "      <td>83.89342</td>\n",
              "    </tr>\n",
              "    <tr>\n",
              "      <th>3828</th>\n",
              "      <td>'040210017011'</td>\n",
              "      <td>334.0</td>\n",
              "      <td>54022.0</td>\n",
              "      <td>37093.21151</td>\n",
              "      <td>44392.70652</td>\n",
              "      <td>2.13</td>\n",
              "      <td>1.48</td>\n",
              "      <td>0.80000</td>\n",
              "      <td>1.41379</td>\n",
              "      <td>0.08683</td>\n",
              "      <td>0.01378</td>\n",
              "      <td>5.6</td>\n",
              "      <td>5.5</td>\n",
              "      <td>39.50617</td>\n",
              "      <td>29.26660</td>\n",
              "      <td>0.00739</td>\n",
              "      <td>1911.58774</td>\n",
              "      <td>0.00611</td>\n",
              "      <td>0.00000</td>\n",
              "      <td>213.06386</td>\n",
              "      <td>54022.0</td>\n",
              "      <td>4.0</td>\n",
              "      <td>2.0</td>\n",
              "      <td>57.40831</td>\n",
              "      <td>28.98586</td>\n",
              "      <td>28.42245</td>\n",
              "      <td>2.42787</td>\n",
              "      <td>32302.80</td>\n",
              "      <td>12.61739</td>\n",
              "      <td>58.00968</td>\n",
              "      <td>29.36581</td>\n",
              "      <td>28.64386</td>\n",
              "      <td>2.46</td>\n",
              "      <td>32302.80</td>\n",
              "      <td>13.21609</td>\n",
              "      <td>51.08362</td>\n",
              "      <td>24.98982</td>\n",
              "      <td>26.09380</td>\n",
              "      <td>2.09</td>\n",
              "      <td>32302.80</td>\n",
              "      <td>...</td>\n",
              "      <td>1.0</td>\n",
              "      <td>64.27259</td>\n",
              "      <td>35.59811</td>\n",
              "      <td>28.67448</td>\n",
              "      <td>2.02614</td>\n",
              "      <td>24795.72</td>\n",
              "      <td>14.79025</td>\n",
              "      <td>64.97819</td>\n",
              "      <td>36.01277</td>\n",
              "      <td>28.96542</td>\n",
              "      <td>2.06</td>\n",
              "      <td>24795.72</td>\n",
              "      <td>14.93992</td>\n",
              "      <td>56.85163</td>\n",
              "      <td>31.23698</td>\n",
              "      <td>25.61464</td>\n",
              "      <td>1.67</td>\n",
              "      <td>24795.72</td>\n",
              "      <td>13.21609</td>\n",
              "      <td>81033.0</td>\n",
              "      <td>4.0</td>\n",
              "      <td>2.0</td>\n",
              "      <td>40.33210</td>\n",
              "      <td>20.04063</td>\n",
              "      <td>20.29147</td>\n",
              "      <td>2.50787</td>\n",
              "      <td>33998.40</td>\n",
              "      <td>11.84321</td>\n",
              "      <td>40.80855</td>\n",
              "      <td>20.36207</td>\n",
              "      <td>20.44647</td>\n",
              "      <td>2.54</td>\n",
              "      <td>33998.40</td>\n",
              "      <td>12.64147</td>\n",
              "      <td>35.32113</td>\n",
              "      <td>16.65988</td>\n",
              "      <td>18.66125</td>\n",
              "      <td>2.17</td>\n",
              "      <td>33998.40</td>\n",
              "      <td>3.44767</td>\n",
              "    </tr>\n",
              "    <tr>\n",
              "      <th>3204</th>\n",
              "      <td>'040190029011'</td>\n",
              "      <td>670.0</td>\n",
              "      <td>46443.0</td>\n",
              "      <td>40021.93061</td>\n",
              "      <td>25693.83613</td>\n",
              "      <td>2.20</td>\n",
              "      <td>2.49</td>\n",
              "      <td>0.91611</td>\n",
              "      <td>0.88534</td>\n",
              "      <td>0.59254</td>\n",
              "      <td>3.03703</td>\n",
              "      <td>5.2</td>\n",
              "      <td>4.1</td>\n",
              "      <td>63.63636</td>\n",
              "      <td>5.07261</td>\n",
              "      <td>0.09972</td>\n",
              "      <td>33049.60761</td>\n",
              "      <td>2.63636</td>\n",
              "      <td>0.36612</td>\n",
              "      <td>3423.06603</td>\n",
              "      <td>46443.0</td>\n",
              "      <td>4.0</td>\n",
              "      <td>2.0</td>\n",
              "      <td>54.00608</td>\n",
              "      <td>29.26792</td>\n",
              "      <td>24.73816</td>\n",
              "      <td>1.90521</td>\n",
              "      <td>22380.84</td>\n",
              "      <td>59.27397</td>\n",
              "      <td>56.31947</td>\n",
              "      <td>29.55881</td>\n",
              "      <td>26.76065</td>\n",
              "      <td>2.16</td>\n",
              "      <td>22380.84</td>\n",
              "      <td>47.27000</td>\n",
              "      <td>52.41527</td>\n",
              "      <td>29.06789</td>\n",
              "      <td>23.34738</td>\n",
              "      <td>1.73</td>\n",
              "      <td>22380.84</td>\n",
              "      <td>...</td>\n",
              "      <td>1.0</td>\n",
              "      <td>53.57938</td>\n",
              "      <td>31.00777</td>\n",
              "      <td>22.57161</td>\n",
              "      <td>1.49928</td>\n",
              "      <td>15664.32</td>\n",
              "      <td>69.31926</td>\n",
              "      <td>61.28720</td>\n",
              "      <td>36.27066</td>\n",
              "      <td>25.01654</td>\n",
              "      <td>1.76</td>\n",
              "      <td>15664.32</td>\n",
              "      <td>50.64643</td>\n",
              "      <td>48.27904</td>\n",
              "      <td>27.38871</td>\n",
              "      <td>20.89034</td>\n",
              "      <td>1.32</td>\n",
              "      <td>15664.32</td>\n",
              "      <td>82.15977</td>\n",
              "      <td>69665.0</td>\n",
              "      <td>4.0</td>\n",
              "      <td>2.0</td>\n",
              "      <td>38.90359</td>\n",
              "      <td>21.20331</td>\n",
              "      <td>17.70028</td>\n",
              "      <td>1.98521</td>\n",
              "      <td>23313.96</td>\n",
              "      <td>56.14783</td>\n",
              "      <td>42.97368</td>\n",
              "      <td>23.85703</td>\n",
              "      <td>19.11665</td>\n",
              "      <td>2.24</td>\n",
              "      <td>23313.96</td>\n",
              "      <td>46.14453</td>\n",
              "      <td>36.10476</td>\n",
              "      <td>19.37845</td>\n",
              "      <td>16.72631</td>\n",
              "      <td>1.81</td>\n",
              "      <td>23313.96</td>\n",
              "      <td>63.02667</td>\n",
              "    </tr>\n",
              "    <tr>\n",
              "      <th>36</th>\n",
              "      <td>'040019450014'</td>\n",
              "      <td>354.0</td>\n",
              "      <td>31615.0</td>\n",
              "      <td>65735.98821</td>\n",
              "      <td>47970.22479</td>\n",
              "      <td>4.11</td>\n",
              "      <td>2.02</td>\n",
              "      <td>1.64343</td>\n",
              "      <td>1.03626</td>\n",
              "      <td>0.12147</td>\n",
              "      <td>0.12795</td>\n",
              "      <td>5.1</td>\n",
              "      <td>3.3</td>\n",
              "      <td>78.82096</td>\n",
              "      <td>4.95131</td>\n",
              "      <td>0.03831</td>\n",
              "      <td>5143.73165</td>\n",
              "      <td>0.00000</td>\n",
              "      <td>0.00000</td>\n",
              "      <td>418.07950</td>\n",
              "      <td>31615.0</td>\n",
              "      <td>4.0</td>\n",
              "      <td>2.0</td>\n",
              "      <td>67.55354</td>\n",
              "      <td>25.99506</td>\n",
              "      <td>41.55847</td>\n",
              "      <td>2.18534</td>\n",
              "      <td>27750.60</td>\n",
              "      <td>0.00000</td>\n",
              "      <td>68.47102</td>\n",
              "      <td>26.30397</td>\n",
              "      <td>42.16705</td>\n",
              "      <td>2.24</td>\n",
              "      <td>27750.60</td>\n",
              "      <td>0.00000</td>\n",
              "      <td>60.91780</td>\n",
              "      <td>23.76087</td>\n",
              "      <td>37.15693</td>\n",
              "      <td>1.79</td>\n",
              "      <td>27750.60</td>\n",
              "      <td>...</td>\n",
              "      <td>1.0</td>\n",
              "      <td>72.56434</td>\n",
              "      <td>31.65937</td>\n",
              "      <td>40.90497</td>\n",
              "      <td>1.79291</td>\n",
              "      <td>20557.80</td>\n",
              "      <td>0.00000</td>\n",
              "      <td>74.01011</td>\n",
              "      <td>32.31061</td>\n",
              "      <td>41.69950</td>\n",
              "      <td>1.85</td>\n",
              "      <td>20557.80</td>\n",
              "      <td>0.00000</td>\n",
              "      <td>62.10774</td>\n",
              "      <td>26.94923</td>\n",
              "      <td>35.15851</td>\n",
              "      <td>1.38</td>\n",
              "      <td>20557.80</td>\n",
              "      <td>0.00000</td>\n",
              "      <td>47423.0</td>\n",
              "      <td>4.0</td>\n",
              "      <td>2.0</td>\n",
              "      <td>50.69995</td>\n",
              "      <td>20.90204</td>\n",
              "      <td>29.79791</td>\n",
              "      <td>2.27412</td>\n",
              "      <td>29020.68</td>\n",
              "      <td>0.00000</td>\n",
              "      <td>51.49056</td>\n",
              "      <td>21.25551</td>\n",
              "      <td>30.23505</td>\n",
              "      <td>2.33</td>\n",
              "      <td>29020.68</td>\n",
              "      <td>0.00000</td>\n",
              "      <td>44.98186</td>\n",
              "      <td>18.34553</td>\n",
              "      <td>26.63633</td>\n",
              "      <td>1.87</td>\n",
              "      <td>29020.68</td>\n",
              "      <td>0.00000</td>\n",
              "    </tr>\n",
              "    <tr>\n",
              "      <th>1309</th>\n",
              "      <td>'040131097042'</td>\n",
              "      <td>181.0</td>\n",
              "      <td>54022.0</td>\n",
              "      <td>35893.00200</td>\n",
              "      <td>26461.69051</td>\n",
              "      <td>4.15</td>\n",
              "      <td>6.13</td>\n",
              "      <td>1.02747</td>\n",
              "      <td>1.57451</td>\n",
              "      <td>0.41436</td>\n",
              "      <td>2.80822</td>\n",
              "      <td>5.9</td>\n",
              "      <td>6.4</td>\n",
              "      <td>97.65258</td>\n",
              "      <td>9.20122</td>\n",
              "      <td>0.18618</td>\n",
              "      <td>22422.59341</td>\n",
              "      <td>1.46306</td>\n",
              "      <td>0.08112</td>\n",
              "      <td>3380.06448</td>\n",
              "      <td>54022.0</td>\n",
              "      <td>4.0</td>\n",
              "      <td>2.0</td>\n",
              "      <td>51.48372</td>\n",
              "      <td>27.26636</td>\n",
              "      <td>24.21735</td>\n",
              "      <td>2.19983</td>\n",
              "      <td>25038.72</td>\n",
              "      <td>12.05099</td>\n",
              "      <td>53.91599</td>\n",
              "      <td>28.87712</td>\n",
              "      <td>25.03887</td>\n",
              "      <td>2.32</td>\n",
              "      <td>25038.72</td>\n",
              "      <td>9.19380</td>\n",
              "      <td>48.04610</td>\n",
              "      <td>24.98982</td>\n",
              "      <td>23.05628</td>\n",
              "      <td>2.03</td>\n",
              "      <td>25038.72</td>\n",
              "      <td>...</td>\n",
              "      <td>1.0</td>\n",
              "      <td>57.26913</td>\n",
              "      <td>33.67612</td>\n",
              "      <td>23.59302</td>\n",
              "      <td>1.79155</td>\n",
              "      <td>18034.92</td>\n",
              "      <td>15.81930</td>\n",
              "      <td>60.08867</td>\n",
              "      <td>35.40192</td>\n",
              "      <td>24.68675</td>\n",
              "      <td>1.92</td>\n",
              "      <td>18034.92</td>\n",
              "      <td>10.34302</td>\n",
              "      <td>53.28419</td>\n",
              "      <td>31.23698</td>\n",
              "      <td>22.04720</td>\n",
              "      <td>1.61</td>\n",
              "      <td>18034.92</td>\n",
              "      <td>23.55911</td>\n",
              "      <td>81033.0</td>\n",
              "      <td>4.0</td>\n",
              "      <td>2.0</td>\n",
              "      <td>37.78098</td>\n",
              "      <td>20.55385</td>\n",
              "      <td>17.22713</td>\n",
              "      <td>2.27983</td>\n",
              "      <td>25874.64</td>\n",
              "      <td>10.42557</td>\n",
              "      <td>41.11126</td>\n",
              "      <td>23.30902</td>\n",
              "      <td>17.80223</td>\n",
              "      <td>2.40</td>\n",
              "      <td>25874.64</td>\n",
              "      <td>8.04457</td>\n",
              "      <td>33.07420</td>\n",
              "      <td>16.65988</td>\n",
              "      <td>16.41432</td>\n",
              "      <td>2.11</td>\n",
              "      <td>25874.64</td>\n",
              "      <td>13.79070</td>\n",
              "    </tr>\n",
              "    <tr>\n",
              "      <th>1275</th>\n",
              "      <td>'040131092003'</td>\n",
              "      <td>385.0</td>\n",
              "      <td>54022.0</td>\n",
              "      <td>27148.16541</td>\n",
              "      <td>10727.58148</td>\n",
              "      <td>3.56</td>\n",
              "      <td>2.99</td>\n",
              "      <td>1.33453</td>\n",
              "      <td>0.96592</td>\n",
              "      <td>0.79481</td>\n",
              "      <td>0.98591</td>\n",
              "      <td>5.7</td>\n",
              "      <td>3.2</td>\n",
              "      <td>15.11036</td>\n",
              "      <td>8.51019</td>\n",
              "      <td>0.03073</td>\n",
              "      <td>46808.59576</td>\n",
              "      <td>5.53186</td>\n",
              "      <td>0.60958</td>\n",
              "      <td>5566.06473</td>\n",
              "      <td>54022.0</td>\n",
              "      <td>4.0</td>\n",
              "      <td>2.0</td>\n",
              "      <td>41.50580</td>\n",
              "      <td>21.27416</td>\n",
              "      <td>20.23163</td>\n",
              "      <td>1.79081</td>\n",
              "      <td>21738.24</td>\n",
              "      <td>28.89181</td>\n",
              "      <td>53.70855</td>\n",
              "      <td>30.54311</td>\n",
              "      <td>23.16544</td>\n",
              "      <td>2.22</td>\n",
              "      <td>21738.24</td>\n",
              "      <td>18.38760</td>\n",
              "      <td>38.35541</td>\n",
              "      <td>18.88120</td>\n",
              "      <td>19.47421</td>\n",
              "      <td>1.68</td>\n",
              "      <td>21738.24</td>\n",
              "      <td>...</td>\n",
              "      <td>1.0</td>\n",
              "      <td>45.28712</td>\n",
              "      <td>26.59246</td>\n",
              "      <td>18.69466</td>\n",
              "      <td>1.37491</td>\n",
              "      <td>15054.12</td>\n",
              "      <td>35.06479</td>\n",
              "      <td>60.66865</td>\n",
              "      <td>38.17854</td>\n",
              "      <td>22.49012</td>\n",
              "      <td>1.82</td>\n",
              "      <td>15054.12</td>\n",
              "      <td>19.53682</td>\n",
              "      <td>41.31607</td>\n",
              "      <td>23.60128</td>\n",
              "      <td>17.71479</td>\n",
              "      <td>1.26</td>\n",
              "      <td>15054.12</td>\n",
              "      <td>39.07365</td>\n",
              "      <td>81033.0</td>\n",
              "      <td>4.0</td>\n",
              "      <td>2.0</td>\n",
              "      <td>28.76920</td>\n",
              "      <td>14.18277</td>\n",
              "      <td>14.58643</td>\n",
              "      <td>1.87081</td>\n",
              "      <td>23024.52</td>\n",
              "      <td>26.82918</td>\n",
              "      <td>37.00165</td>\n",
              "      <td>20.36207</td>\n",
              "      <td>16.63957</td>\n",
              "      <td>2.30</td>\n",
              "      <td>23024.52</td>\n",
              "      <td>17.23837</td>\n",
              "      <td>26.64383</td>\n",
              "      <td>12.58746</td>\n",
              "      <td>14.05637</td>\n",
              "      <td>1.76</td>\n",
              "      <td>23024.52</td>\n",
              "      <td>29.30524</td>\n",
              "    </tr>\n",
              "    <tr>\n",
              "      <th>3566</th>\n",
              "      <td>'040190046142'</td>\n",
              "      <td>630.0</td>\n",
              "      <td>46443.0</td>\n",
              "      <td>88175.41561</td>\n",
              "      <td>39983.54301</td>\n",
              "      <td>2.51</td>\n",
              "      <td>1.41</td>\n",
              "      <td>0.96230</td>\n",
              "      <td>0.38986</td>\n",
              "      <td>0.02698</td>\n",
              "      <td>0.97878</td>\n",
              "      <td>6.7</td>\n",
              "      <td>3.8</td>\n",
              "      <td>76.14815</td>\n",
              "      <td>10.23330</td>\n",
              "      <td>0.03107</td>\n",
              "      <td>12605.60641</td>\n",
              "      <td>1.76696</td>\n",
              "      <td>0.43348</td>\n",
              "      <td>2075.06590</td>\n",
              "      <td>46443.0</td>\n",
              "      <td>4.0</td>\n",
              "      <td>2.0</td>\n",
              "      <td>62.07980</td>\n",
              "      <td>32.16022</td>\n",
              "      <td>29.91958</td>\n",
              "      <td>2.27948</td>\n",
              "      <td>27606.96</td>\n",
              "      <td>44.16869</td>\n",
              "      <td>62.25054</td>\n",
              "      <td>32.24598</td>\n",
              "      <td>30.00456</td>\n",
              "      <td>2.29</td>\n",
              "      <td>27606.96</td>\n",
              "      <td>45.01905</td>\n",
              "      <td>55.92317</td>\n",
              "      <td>29.06789</td>\n",
              "      <td>26.85528</td>\n",
              "      <td>1.90</td>\n",
              "      <td>27606.96</td>\n",
              "      <td>...</td>\n",
              "      <td>1.0</td>\n",
              "      <td>68.26547</td>\n",
              "      <td>39.47790</td>\n",
              "      <td>28.78757</td>\n",
              "      <td>1.87921</td>\n",
              "      <td>20672.28</td>\n",
              "      <td>47.81845</td>\n",
              "      <td>68.45565</td>\n",
              "      <td>39.56505</td>\n",
              "      <td>28.89060</td>\n",
              "      <td>1.89</td>\n",
              "      <td>20672.28</td>\n",
              "      <td>48.39548</td>\n",
              "      <td>61.40767</td>\n",
              "      <td>36.33525</td>\n",
              "      <td>25.07241</td>\n",
              "      <td>1.49</td>\n",
              "      <td>20672.28</td>\n",
              "      <td>27.01143</td>\n",
              "      <td>69665.0</td>\n",
              "      <td>4.0</td>\n",
              "      <td>2.0</td>\n",
              "      <td>47.06702</td>\n",
              "      <td>25.84800</td>\n",
              "      <td>21.21902</td>\n",
              "      <td>2.35975</td>\n",
              "      <td>28409.40</td>\n",
              "      <td>42.92174</td>\n",
              "      <td>47.30442</td>\n",
              "      <td>26.02742</td>\n",
              "      <td>21.27700</td>\n",
              "      <td>2.37</td>\n",
              "      <td>28409.40</td>\n",
              "      <td>43.89358</td>\n",
              "      <td>38.50663</td>\n",
              "      <td>19.37845</td>\n",
              "      <td>19.12817</td>\n",
              "      <td>1.99</td>\n",
              "      <td>28409.40</td>\n",
              "      <td>7.87833</td>\n",
              "    </tr>\n",
              "    <tr>\n",
              "      <th>2308</th>\n",
              "      <td>'040134226361'</td>\n",
              "      <td>734.0</td>\n",
              "      <td>54022.0</td>\n",
              "      <td>84620.62752</td>\n",
              "      <td>45500.63556</td>\n",
              "      <td>2.32</td>\n",
              "      <td>2.10</td>\n",
              "      <td>1.54007</td>\n",
              "      <td>1.21286</td>\n",
              "      <td>0.57629</td>\n",
              "      <td>2.27342</td>\n",
              "      <td>6.1</td>\n",
              "      <td>3.4</td>\n",
              "      <td>56.71463</td>\n",
              "      <td>12.35220</td>\n",
              "      <td>0.08982</td>\n",
              "      <td>19468.60506</td>\n",
              "      <td>1.69638</td>\n",
              "      <td>0.22908</td>\n",
              "      <td>3192.06575</td>\n",
              "      <td>54022.0</td>\n",
              "      <td>4.0</td>\n",
              "      <td>2.0</td>\n",
              "      <td>49.77301</td>\n",
              "      <td>27.16692</td>\n",
              "      <td>22.60609</td>\n",
              "      <td>2.00456</td>\n",
              "      <td>24288.12</td>\n",
              "      <td>13.87838</td>\n",
              "      <td>55.97899</td>\n",
              "      <td>31.27615</td>\n",
              "      <td>24.70285</td>\n",
              "      <td>2.31</td>\n",
              "      <td>24288.12</td>\n",
              "      <td>13.21609</td>\n",
              "      <td>45.21021</td>\n",
              "      <td>24.14572</td>\n",
              "      <td>21.06450</td>\n",
              "      <td>1.78</td>\n",
              "      <td>24288.12</td>\n",
              "      <td>...</td>\n",
              "      <td>1.0</td>\n",
              "      <td>53.68197</td>\n",
              "      <td>32.05230</td>\n",
              "      <td>21.62966</td>\n",
              "      <td>1.59304</td>\n",
              "      <td>17453.88</td>\n",
              "      <td>18.58253</td>\n",
              "      <td>62.71755</td>\n",
              "      <td>38.37290</td>\n",
              "      <td>24.34465</td>\n",
              "      <td>1.91</td>\n",
              "      <td>17453.88</td>\n",
              "      <td>14.93992</td>\n",
              "      <td>47.03878</td>\n",
              "      <td>27.40525</td>\n",
              "      <td>19.63353</td>\n",
              "      <td>1.36</td>\n",
              "      <td>17453.88</td>\n",
              "      <td>21.26066</td>\n",
              "      <td>81033.0</td>\n",
              "      <td>4.0</td>\n",
              "      <td>2.0</td>\n",
              "      <td>36.98912</td>\n",
              "      <td>20.84532</td>\n",
              "      <td>16.14380</td>\n",
              "      <td>2.08456</td>\n",
              "      <td>25268.76</td>\n",
              "      <td>11.97918</td>\n",
              "      <td>42.86043</td>\n",
              "      <td>25.24897</td>\n",
              "      <td>17.61146</td>\n",
              "      <td>2.39</td>\n",
              "      <td>25268.76</td>\n",
              "      <td>12.64147</td>\n",
              "      <td>32.67239</td>\n",
              "      <td>17.60764</td>\n",
              "      <td>15.06474</td>\n",
              "      <td>1.86</td>\n",
              "      <td>25268.76</td>\n",
              "      <td>11.49225</td>\n",
              "    </tr>\n",
              "  </tbody>\n",
              "</table>\n",
              "<p>10 rows × 188 columns</p>\n",
              "</div>"
            ],
            "text/plain": [
              "              blkgrp  ...  hh_type8_transit_trips_rent\n",
              "2813  '040138161001'  ...                          NaN\n",
              "3857  '040210020031'  ...                      7.46996\n",
              "1626  '040131167171'  ...                     83.89342\n",
              "3828  '040210017011'  ...                      3.44767\n",
              "3204  '040190029011'  ...                     63.02667\n",
              "36    '040019450014'  ...                      0.00000\n",
              "1309  '040131097042'  ...                     13.79070\n",
              "1275  '040131092003'  ...                     29.30524\n",
              "3566  '040190046142'  ...                      7.87833\n",
              "2308  '040134226361'  ...                     11.49225\n",
              "\n",
              "[10 rows x 188 columns]"
            ]
          },
          "metadata": {
            "tags": []
          },
          "execution_count": 5
        }
      ]
    },
    {
      "cell_type": "markdown",
      "metadata": {
        "id": "JyfxM5tc_Q1w",
        "colab_type": "text"
      },
      "source": [
        "Some columns hold float values like the `LotFrontage` column."
      ]
    },
    {
      "cell_type": "code",
      "metadata": {
        "id": "pdILA65r_PeY",
        "colab_type": "code",
        "colab": {
          "base_uri": "https://localhost:8080/",
          "height": 34
        },
        "outputId": "bc5575b5-81b9-4e53-f7e3-0fdf0b556bf7"
      },
      "source": [
        "# What types are in this column?\n",
        "\n",
        "azh['avg_hh_size_owners'].dtype"
      ],
      "execution_count": 8,
      "outputs": [
        {
          "output_type": "execute_result",
          "data": {
            "text/plain": [
              "dtype('float64')"
            ]
          },
          "metadata": {
            "tags": []
          },
          "execution_count": 8
        }
      ]
    },
    {
      "cell_type": "markdown",
      "metadata": {
        "id": "yfvyHa9IfGi9",
        "colab_type": "text"
      },
      "source": [
        "Hmmm, do the values above look like floats to you?\n",
        "\n",
        "They all have .0 on them so technically they're being stored as floats, but *should* they be stored as floats?\n",
        "\n",
        "Lets see what all of the possible values for this column are."
      ]
    },
    {
      "cell_type": "code",
      "metadata": {
        "id": "MDLnz1CX_eGc",
        "colab_type": "code",
        "colab": {
          "base_uri": "https://localhost:8080/",
          "height": 204
        },
        "outputId": "968376fa-d7f1-44b1-f610-25da59e6e54f"
      },
      "source": [
        "# Looking at the first ten rows of avg_hh_size_owners columns\n",
        "azh['avg_hh_size_owners'].head(10)"
      ],
      "execution_count": 9,
      "outputs": [
        {
          "output_type": "execute_result",
          "data": {
            "text/plain": [
              "0    4.46\n",
              "1    3.89\n",
              "2    3.90\n",
              "3    4.32\n",
              "4    4.31\n",
              "5    3.64\n",
              "6    4.34\n",
              "7    4.23\n",
              "8    4.17\n",
              "9    4.94\n",
              "Name: avg_hh_size_owners, dtype: float64"
            ]
          },
          "metadata": {
            "tags": []
          },
          "execution_count": 9
        }
      ]
    },
    {
      "cell_type": "markdown",
      "metadata": {
        "id": "1IaYU5QzAfgn",
        "colab_type": "text"
      },
      "source": [
        "Looks to me like the `LotFrontage` column originally held integer values but was cast to a `float` meaning that each original integer values was converted to its corresponding float representation. \n",
        "\n",
        "Any guesses as to why that would have happened?\n",
        "\n",
        "\n",
        "HINT: What's the most common `LotFrontage` value for this column?"
      ]
    },
    {
      "cell_type": "code",
      "metadata": {
        "id": "MtkV149OA5je",
        "colab_type": "code",
        "colab": {
          "base_uri": "https://localhost:8080/",
          "height": 34
        },
        "outputId": "2de8abac-973f-4191-edd6-2f448a473fd1"
      },
      "source": [
        "# NaN is the most common value in this column. What is a NaN\n",
        "import numpy as np\n",
        "np.nan\n"
      ],
      "execution_count": 11,
      "outputs": [
        {
          "output_type": "execute_result",
          "data": {
            "text/plain": [
              "nan"
            ]
          },
          "metadata": {
            "tags": []
          },
          "execution_count": 11
        }
      ]
    },
    {
      "cell_type": "markdown",
      "metadata": {
        "id": "cJNKPLl_BQh7",
        "colab_type": "text"
      },
      "source": [
        "`NaN` stands stands for \"Not a Number\" and is the default missing value indicator with Pandas. This means there were cells in this column that didn't have a LotFrontage value recorded for those homes. \n",
        "\n",
        "This is where domain knowledge starts to come in. Think about the context we're working with here: houses. What might a null or blank cell representing \"Linear feet of street connected to property\" mean in the context of a housing dataset?\n",
        "\n",
        "Ok, so maybe it makes seanse to have some NaNs in this column. What is the datatype of a NaN value?\n",
        "\n",
        "Perhaps some of this data is truly missing or unrecorded data, but sometimes `NaNs` are more likely to indicate something that was \"NA\" or \"Not Applicable\" to a particular observation. There could be multiple reasons why there was no value recorded for a particular feature.\n",
        "\n",
        "Remember, that Pandas tries to maintain a single datatype for all values in a column, and therefore..."
      ]
    },
    {
      "cell_type": "code",
      "metadata": {
        "id": "2166y9kXB0zZ",
        "colab_type": "code",
        "colab": {
          "base_uri": "https://localhost:8080/",
          "height": 34
        },
        "outputId": "7e0fc560-410d-47dd-88fe-bd2beebc363b"
      },
      "source": [
        "import numpy as np\n",
        "\n",
        "# What is the datatype of NaN?\n",
        "type(np.nan)"
      ],
      "execution_count": 25,
      "outputs": [
        {
          "output_type": "execute_result",
          "data": {
            "text/plain": [
              "float"
            ]
          },
          "metadata": {
            "tags": []
          },
          "execution_count": 25
        }
      ]
    },
    {
      "cell_type": "markdown",
      "metadata": {
        "id": "37ZaBu5OB63d",
        "colab_type": "text"
      },
      "source": [
        "The datatype of a NaN is float!  This means that if we have a column of integer values, but the column has even a single `NaN` that column will not be treated with the integer datatype but all of the integers will be converted to floats in order to try and preserve the same datatype throughout the entire column.\n",
        "\n",
        "You can see already how understanding column datatypes is crucial to understanding how Pandas help us manage our data."
      ]
    },
    {
      "cell_type": "code",
      "metadata": {
        "id": "zHAv1K1Vx5p4",
        "colab_type": "code",
        "colab": {
          "base_uri": "https://localhost:8080/",
          "height": 34
        },
        "outputId": "4d30a595-d05f-4ff9-a3df-e127bc14eab8"
      },
      "source": [
        "# How much missing data?\n",
        "azh['avg_hh_size_owners'].isnull().sum()"
      ],
      "execution_count": 14,
      "outputs": [
        {
          "output_type": "execute_result",
          "data": {
            "text/plain": [
              "123"
            ]
          },
          "metadata": {
            "tags": []
          },
          "execution_count": 14
        }
      ]
    },
    {
      "cell_type": "code",
      "metadata": {
        "id": "4hToV30Zz_Z4",
        "colab_type": "code",
        "colab": {
          "base_uri": "https://localhost:8080/",
          "height": 34
        },
        "outputId": "44d04bea-d9e8-4a24-c743-377716e34675"
      },
      "source": [
        "azh.shape"
      ],
      "execution_count": 16,
      "outputs": [
        {
          "output_type": "execute_result",
          "data": {
            "text/plain": [
              "(4180, 188)"
            ]
          },
          "metadata": {
            "tags": []
          },
          "execution_count": 16
        }
      ]
    },
    {
      "cell_type": "code",
      "metadata": {
        "id": "U3iWaWu5yOW8",
        "colab_type": "code",
        "colab": {}
      },
      "source": [
        "# Drop missing data # Before I drop data chk why it's been excluded or missing. Can I replace it with other data, find an avg. \n",
        "azh['avg_hh_size_owners'].dropna(inplace=True)"
      ],
      "execution_count": 0,
      "outputs": []
    },
    {
      "cell_type": "code",
      "metadata": {
        "id": "vGWsJ5GY0Ea-",
        "colab_type": "code",
        "colab": {
          "base_uri": "https://localhost:8080/",
          "height": 34
        },
        "outputId": "cd7766f3-2a14-4739-f221-a790705dba2c"
      },
      "source": [
        "azh['avg_hh_size_owners'].isnull().sum()"
      ],
      "execution_count": 20,
      "outputs": [
        {
          "output_type": "execute_result",
          "data": {
            "text/plain": [
              "0"
            ]
          },
          "metadata": {
            "tags": []
          },
          "execution_count": 20
        }
      ]
    },
    {
      "cell_type": "markdown",
      "metadata": {
        "id": "Ko_yfcFqg0pj",
        "colab_type": "text"
      },
      "source": [
        "### Making new Features\n",
        "\n",
        "Lets slim down the dataset and consider just a few specific columns:\n",
        "\n",
        "- `TotalBsmtSF`\n",
        "- `1stFlrSF`\n",
        "- `2ndFlrSF`\n",
        "- `SalePrice1`\n"
      ]
    },
    {
      "cell_type": "code",
      "metadata": {
        "id": "_GxPTgevhWnv",
        "colab_type": "code",
        "colab": {
          "base_uri": "https://localhost:8080/",
          "height": 142
        },
        "outputId": "e1d95824-343f-48bf-d9f9-ba5ed2370a48"
      },
      "source": [
        "# I can make a smaller dataframe with a few specific column headers\n",
        "# by passing a list of column headers inside of the square brackets\n",
        "smaller=azh[['blkgrp_median_income_owners', 'blkgrp_median_income_renters', 'hh_type1_income']].copy()\n",
        "smaller.sample(3) # blkgrp_median_income_owners\tblkgrp_median_income_renters hh_type1_income"
      ],
      "execution_count": 46,
      "outputs": [
        {
          "output_type": "execute_result",
          "data": {
            "text/html": [
              "<div>\n",
              "<style scoped>\n",
              "    .dataframe tbody tr th:only-of-type {\n",
              "        vertical-align: middle;\n",
              "    }\n",
              "\n",
              "    .dataframe tbody tr th {\n",
              "        vertical-align: top;\n",
              "    }\n",
              "\n",
              "    .dataframe thead th {\n",
              "        text-align: right;\n",
              "    }\n",
              "</style>\n",
              "<table border=\"1\" class=\"dataframe\">\n",
              "  <thead>\n",
              "    <tr style=\"text-align: right;\">\n",
              "      <th></th>\n",
              "      <th>blkgrp_median_income_owners</th>\n",
              "      <th>blkgrp_median_income_renters</th>\n",
              "      <th>hh_type1_income</th>\n",
              "    </tr>\n",
              "  </thead>\n",
              "  <tbody>\n",
              "    <tr>\n",
              "      <th>2387</th>\n",
              "      <td>68577.75136</td>\n",
              "      <td>49685.83850</td>\n",
              "      <td>54022.0</td>\n",
              "    </tr>\n",
              "    <tr>\n",
              "      <th>2066</th>\n",
              "      <td>51365.89282</td>\n",
              "      <td>34918.78451</td>\n",
              "      <td>54022.0</td>\n",
              "    </tr>\n",
              "    <tr>\n",
              "      <th>3265</th>\n",
              "      <td>57316.23169</td>\n",
              "      <td>18242.95230</td>\n",
              "      <td>46443.0</td>\n",
              "    </tr>\n",
              "  </tbody>\n",
              "</table>\n",
              "</div>"
            ],
            "text/plain": [
              "      blkgrp_median_income_owners  ...  hh_type1_income\n",
              "2387                  68577.75136  ...          54022.0\n",
              "2066                  51365.89282  ...          54022.0\n",
              "3265                  57316.23169  ...          46443.0\n",
              "\n",
              "[3 rows x 3 columns]"
            ]
          },
          "metadata": {
            "tags": []
          },
          "execution_count": 46
        }
      ]
    },
    {
      "cell_type": "markdown",
      "metadata": {
        "id": "Tw0PzxkbiQmm",
        "colab_type": "text"
      },
      "source": [
        "### Syntax for creating new columns\n",
        "\n",
        "When making a new column on a dataframe, we have to use the square bracket syntax of accessing a column. We can't use \"dot syntax\" here."
      ]
    },
    {
      "cell_type": "code",
      "metadata": {
        "id": "ASk-tyb38FKd",
        "colab_type": "code",
        "colab": {
          "base_uri": "https://localhost:8080/",
          "height": 204
        },
        "outputId": "a29845f9-bca6-4dab-e16d-1c7d0f3f23b8"
      },
      "source": [
        "smaller['Total Income'] = smaller['blkgrp_median_income_owners'] + smaller['blkgrp_median_income_renters']\n",
        "smaller.head()"
      ],
      "execution_count": 47,
      "outputs": [
        {
          "output_type": "execute_result",
          "data": {
            "text/html": [
              "<div>\n",
              "<style scoped>\n",
              "    .dataframe tbody tr th:only-of-type {\n",
              "        vertical-align: middle;\n",
              "    }\n",
              "\n",
              "    .dataframe tbody tr th {\n",
              "        vertical-align: top;\n",
              "    }\n",
              "\n",
              "    .dataframe thead th {\n",
              "        text-align: right;\n",
              "    }\n",
              "</style>\n",
              "<table border=\"1\" class=\"dataframe\">\n",
              "  <thead>\n",
              "    <tr style=\"text-align: right;\">\n",
              "      <th></th>\n",
              "      <th>blkgrp_median_income_owners</th>\n",
              "      <th>blkgrp_median_income_renters</th>\n",
              "      <th>hh_type1_income</th>\n",
              "      <th>Total Income</th>\n",
              "    </tr>\n",
              "  </thead>\n",
              "  <tbody>\n",
              "    <tr>\n",
              "      <th>0</th>\n",
              "      <td>18333.00000</td>\n",
              "      <td>28207.66075</td>\n",
              "      <td>31615.0</td>\n",
              "      <td>46540.66075</td>\n",
              "    </tr>\n",
              "    <tr>\n",
              "      <th>1</th>\n",
              "      <td>18223.82631</td>\n",
              "      <td>28039.68310</td>\n",
              "      <td>31615.0</td>\n",
              "      <td>46263.50941</td>\n",
              "    </tr>\n",
              "    <tr>\n",
              "      <th>2</th>\n",
              "      <td>18864.99196</td>\n",
              "      <td>25280.25477</td>\n",
              "      <td>31615.0</td>\n",
              "      <td>44145.24673</td>\n",
              "    </tr>\n",
              "    <tr>\n",
              "      <th>3</th>\n",
              "      <td>26114.24648</td>\n",
              "      <td>34994.70371</td>\n",
              "      <td>31615.0</td>\n",
              "      <td>61108.95019</td>\n",
              "    </tr>\n",
              "    <tr>\n",
              "      <th>4</th>\n",
              "      <td>14296.27346</td>\n",
              "      <td>19157.88971</td>\n",
              "      <td>31615.0</td>\n",
              "      <td>33454.16317</td>\n",
              "    </tr>\n",
              "  </tbody>\n",
              "</table>\n",
              "</div>"
            ],
            "text/plain": [
              "   blkgrp_median_income_owners  ...  Total Income\n",
              "0                  18333.00000  ...   46540.66075\n",
              "1                  18223.82631  ...   46263.50941\n",
              "2                  18864.99196  ...   44145.24673\n",
              "3                  26114.24648  ...   61108.95019\n",
              "4                  14296.27346  ...   33454.16317\n",
              "\n",
              "[5 rows x 4 columns]"
            ]
          },
          "metadata": {
            "tags": []
          },
          "execution_count": 47
        }
      ]
    },
    {
      "cell_type": "code",
      "metadata": {
        "id": "NkXHP57_iJ-U",
        "colab_type": "code",
        "colab": {
          "base_uri": "https://localhost:8080/",
          "height": 204
        },
        "outputId": "e69683e5-ea0d-4366-aec8-194fd082f6d5"
      },
      "source": [
        "# Lets add up all of the square footage to get a single square footage \n",
        "# column for the entire dataset\n",
        "\n",
        "smaller['Avg Income'] = smaller['hh_type1_income'] / smaller['Total Income']\n",
        "smaller.sample(5)"
      ],
      "execution_count": 48,
      "outputs": [
        {
          "output_type": "execute_result",
          "data": {
            "text/html": [
              "<div>\n",
              "<style scoped>\n",
              "    .dataframe tbody tr th:only-of-type {\n",
              "        vertical-align: middle;\n",
              "    }\n",
              "\n",
              "    .dataframe tbody tr th {\n",
              "        vertical-align: top;\n",
              "    }\n",
              "\n",
              "    .dataframe thead th {\n",
              "        text-align: right;\n",
              "    }\n",
              "</style>\n",
              "<table border=\"1\" class=\"dataframe\">\n",
              "  <thead>\n",
              "    <tr style=\"text-align: right;\">\n",
              "      <th></th>\n",
              "      <th>blkgrp_median_income_owners</th>\n",
              "      <th>blkgrp_median_income_renters</th>\n",
              "      <th>hh_type1_income</th>\n",
              "      <th>Total Income</th>\n",
              "      <th>Avg Income</th>\n",
              "    </tr>\n",
              "  </thead>\n",
              "  <tbody>\n",
              "    <tr>\n",
              "      <th>2887</th>\n",
              "      <td>42091.73157</td>\n",
              "      <td>28232.42244</td>\n",
              "      <td>39383.0</td>\n",
              "      <td>70324.15401</td>\n",
              "      <td>0.560021</td>\n",
              "    </tr>\n",
              "    <tr>\n",
              "      <th>1361</th>\n",
              "      <td>60423.90044</td>\n",
              "      <td>10249.89823</td>\n",
              "      <td>54022.0</td>\n",
              "      <td>70673.79867</td>\n",
              "      <td>0.764385</td>\n",
              "    </tr>\n",
              "    <tr>\n",
              "      <th>847</th>\n",
              "      <td>33252.46628</td>\n",
              "      <td>15672.84075</td>\n",
              "      <td>54022.0</td>\n",
              "      <td>48925.30703</td>\n",
              "      <td>1.104173</td>\n",
              "    </tr>\n",
              "    <tr>\n",
              "      <th>439</th>\n",
              "      <td>39668.11404</td>\n",
              "      <td>25634.38846</td>\n",
              "      <td>54022.0</td>\n",
              "      <td>65302.50250</td>\n",
              "      <td>0.827258</td>\n",
              "    </tr>\n",
              "    <tr>\n",
              "      <th>4139</th>\n",
              "      <td>31236.65152</td>\n",
              "      <td>16231.18037</td>\n",
              "      <td>41156.0</td>\n",
              "      <td>47467.83189</td>\n",
              "      <td>0.867029</td>\n",
              "    </tr>\n",
              "  </tbody>\n",
              "</table>\n",
              "</div>"
            ],
            "text/plain": [
              "      blkgrp_median_income_owners  ...  Avg Income\n",
              "2887                  42091.73157  ...    0.560021\n",
              "1361                  60423.90044  ...    0.764385\n",
              "847                   33252.46628  ...    1.104173\n",
              "439                   39668.11404  ...    0.827258\n",
              "4139                  31236.65152  ...    0.867029\n",
              "\n",
              "[5 rows x 5 columns]"
            ]
          },
          "metadata": {
            "tags": []
          },
          "execution_count": 48
        }
      ]
    },
    {
      "cell_type": "code",
      "metadata": {
        "id": "WXaKmo5ZEm-A",
        "colab_type": "code",
        "colab": {
          "base_uri": "https://localhost:8080/",
          "height": 187
        },
        "outputId": "471a1cbb-70d4-4c94-e728-a30df29c7b90"
      },
      "source": [
        "azh.columns"
      ],
      "execution_count": 49,
      "outputs": [
        {
          "output_type": "execute_result",
          "data": {
            "text/plain": [
              "Index(['blkgrp', 'households', 'area_median_income',\n",
              "       'blkgrp_median_income_owners', 'blkgrp_median_income_renters',\n",
              "       'avg_hh_size_owners', 'avg_hh_size_renters', 'commuters_per_hh_owners',\n",
              "       'commuters_per_hh_renters', 'pct_renters',\n",
              "       ...\n",
              "       'hh_type8_autos_own', 'hh_type8_vmt_own', 'hh_type8_transit_trips_own',\n",
              "       'hh_type8_ht_rent', 'hh_type8_h_rent', 'hh_type8_t_rent',\n",
              "       'hh_type8_autos_rent', 'hh_type8_vmt_rent',\n",
              "       'hh_type8_transit_trips_rent', 'Total Income'],\n",
              "      dtype='object', length=189)"
            ]
          },
          "metadata": {
            "tags": []
          },
          "execution_count": 49
        }
      ]
    },
    {
      "cell_type": "code",
      "metadata": {
        "id": "J37JOEI4EsFW",
        "colab_type": "code",
        "colab": {
          "base_uri": "https://localhost:8080/",
          "height": 204
        },
        "outputId": "3a247d24-a18c-4d07-f015-51baf6e6831b"
      },
      "source": [
        "azh[['households', 'commuters_per_hh_renters', 'pct_renters', 'commuters_per_hh_owners' ]].sample(5)"
      ],
      "execution_count": 50,
      "outputs": [
        {
          "output_type": "execute_result",
          "data": {
            "text/html": [
              "<div>\n",
              "<style scoped>\n",
              "    .dataframe tbody tr th:only-of-type {\n",
              "        vertical-align: middle;\n",
              "    }\n",
              "\n",
              "    .dataframe tbody tr th {\n",
              "        vertical-align: top;\n",
              "    }\n",
              "\n",
              "    .dataframe thead th {\n",
              "        text-align: right;\n",
              "    }\n",
              "</style>\n",
              "<table border=\"1\" class=\"dataframe\">\n",
              "  <thead>\n",
              "    <tr style=\"text-align: right;\">\n",
              "      <th></th>\n",
              "      <th>households</th>\n",
              "      <th>commuters_per_hh_renters</th>\n",
              "      <th>pct_renters</th>\n",
              "      <th>commuters_per_hh_owners</th>\n",
              "    </tr>\n",
              "  </thead>\n",
              "  <tbody>\n",
              "    <tr>\n",
              "      <th>3209</th>\n",
              "      <td>NaN</td>\n",
              "      <td>NaN</td>\n",
              "      <td>NaN</td>\n",
              "      <td>NaN</td>\n",
              "    </tr>\n",
              "    <tr>\n",
              "      <th>1030</th>\n",
              "      <td>779.0</td>\n",
              "      <td>0.96980</td>\n",
              "      <td>0.78947</td>\n",
              "      <td>1.44862</td>\n",
              "    </tr>\n",
              "    <tr>\n",
              "      <th>2544</th>\n",
              "      <td>350.0</td>\n",
              "      <td>0.66482</td>\n",
              "      <td>0.04286</td>\n",
              "      <td>0.55232</td>\n",
              "    </tr>\n",
              "    <tr>\n",
              "      <th>3630</th>\n",
              "      <td>663.0</td>\n",
              "      <td>0.99270</td>\n",
              "      <td>0.84615</td>\n",
              "      <td>1.01075</td>\n",
              "    </tr>\n",
              "    <tr>\n",
              "      <th>144</th>\n",
              "      <td>849.0</td>\n",
              "      <td>1.74143</td>\n",
              "      <td>0.07538</td>\n",
              "      <td>1.37595</td>\n",
              "    </tr>\n",
              "  </tbody>\n",
              "</table>\n",
              "</div>"
            ],
            "text/plain": [
              "      households  ...  commuters_per_hh_owners\n",
              "3209         NaN  ...                      NaN\n",
              "1030       779.0  ...                  1.44862\n",
              "2544       350.0  ...                  0.55232\n",
              "3630       663.0  ...                  1.01075\n",
              "144        849.0  ...                  1.37595\n",
              "\n",
              "[5 rows x 4 columns]"
            ]
          },
          "metadata": {
            "tags": []
          },
          "execution_count": 50
        }
      ]
    },
    {
      "cell_type": "code",
      "metadata": {
        "id": "67SvAg-PRakT",
        "colab_type": "code",
        "colab": {}
      },
      "source": [
        "source_url = ('https://query.data.world/s/4ncmoqjyr25ek4hnxr3vxjz5q47dqi')"
      ],
      "execution_count": 0,
      "outputs": []
    },
    {
      "cell_type": "code",
      "metadata": {
        "id": "kjapwf7MSEdC",
        "colab_type": "code",
        "colab": {
          "base_uri": "https://localhost:8080/",
          "height": 258
        },
        "outputId": "a88d726b-f8e2-421e-b543-08d86671c09c"
      },
      "source": [
        "atlcrm = pd.read_csv(source_url)\n",
        "atlcrm.head()"
      ],
      "execution_count": 30,
      "outputs": [
        {
          "output_type": "stream",
          "text": [
            "/usr/local/lib/python3.6/dist-packages/IPython/core/interactiveshell.py:2718: DtypeWarning: Columns (5) have mixed types.Specify dtype option on import or set low_memory=False.\n",
            "  interactivity=interactivity, compiler=compiler, result=result)\n"
          ],
          "name": "stderr"
        },
        {
          "output_type": "execute_result",
          "data": {
            "text/html": [
              "<div>\n",
              "<style scoped>\n",
              "    .dataframe tbody tr th:only-of-type {\n",
              "        vertical-align: middle;\n",
              "    }\n",
              "\n",
              "    .dataframe tbody tr th {\n",
              "        vertical-align: top;\n",
              "    }\n",
              "\n",
              "    .dataframe thead th {\n",
              "        text-align: right;\n",
              "    }\n",
              "</style>\n",
              "<table border=\"1\" class=\"dataframe\">\n",
              "  <thead>\n",
              "    <tr style=\"text-align: right;\">\n",
              "      <th></th>\n",
              "      <th>Unnamed: 0</th>\n",
              "      <th>crime</th>\n",
              "      <th>number</th>\n",
              "      <th>date</th>\n",
              "      <th>location</th>\n",
              "      <th>beat</th>\n",
              "      <th>neighborhood</th>\n",
              "      <th>npu</th>\n",
              "      <th>lat</th>\n",
              "      <th>long</th>\n",
              "    </tr>\n",
              "  </thead>\n",
              "  <tbody>\n",
              "    <tr>\n",
              "      <th>0</th>\n",
              "      <td>0</td>\n",
              "      <td>LARCENY-NON VEHICLE</td>\n",
              "      <td>103040029</td>\n",
              "      <td>10/31/2010</td>\n",
              "      <td>610 SPRING ST NW</td>\n",
              "      <td>509</td>\n",
              "      <td>Downtown</td>\n",
              "      <td>M</td>\n",
              "      <td>33.77101</td>\n",
              "      <td>-84.38895</td>\n",
              "    </tr>\n",
              "    <tr>\n",
              "      <th>1</th>\n",
              "      <td>1</td>\n",
              "      <td>AUTO THEFT</td>\n",
              "      <td>103040061</td>\n",
              "      <td>10/31/2010</td>\n",
              "      <td>850 OAK ST SW</td>\n",
              "      <td>401</td>\n",
              "      <td>West End</td>\n",
              "      <td>T</td>\n",
              "      <td>33.74057</td>\n",
              "      <td>-84.41680</td>\n",
              "    </tr>\n",
              "    <tr>\n",
              "      <th>2</th>\n",
              "      <td>2</td>\n",
              "      <td>LARCENY-FROM VEHICLE</td>\n",
              "      <td>103040169</td>\n",
              "      <td>10/31/2010</td>\n",
              "      <td>1344 METROPOLITAN PKWY SW</td>\n",
              "      <td>301</td>\n",
              "      <td>Capitol View Manor</td>\n",
              "      <td>X</td>\n",
              "      <td>33.71803</td>\n",
              "      <td>-84.40774</td>\n",
              "    </tr>\n",
              "    <tr>\n",
              "      <th>3</th>\n",
              "      <td>3</td>\n",
              "      <td>AUTO THEFT</td>\n",
              "      <td>103040174</td>\n",
              "      <td>10/31/2010</td>\n",
              "      <td>1752 PRYOR RD SW</td>\n",
              "      <td>307</td>\n",
              "      <td>Betmar LaVilla</td>\n",
              "      <td>Y</td>\n",
              "      <td>33.70731</td>\n",
              "      <td>-84.39674</td>\n",
              "    </tr>\n",
              "    <tr>\n",
              "      <th>4</th>\n",
              "      <td>4</td>\n",
              "      <td>LARCENY-NON VEHICLE</td>\n",
              "      <td>103040301</td>\n",
              "      <td>10/31/2010</td>\n",
              "      <td>JOHN WESLEY DOBBS AVE NE / CORLEY ST NE</td>\n",
              "      <td>604</td>\n",
              "      <td>Old Fourth Ward</td>\n",
              "      <td>M</td>\n",
              "      <td>33.75947</td>\n",
              "      <td>-84.36626</td>\n",
              "    </tr>\n",
              "  </tbody>\n",
              "</table>\n",
              "</div>"
            ],
            "text/plain": [
              "   Unnamed: 0                 crime     number  ... npu       lat      long\n",
              "0           0   LARCENY-NON VEHICLE  103040029  ...   M  33.77101 -84.38895\n",
              "1           1            AUTO THEFT  103040061  ...   T  33.74057 -84.41680\n",
              "2           2  LARCENY-FROM VEHICLE  103040169  ...   X  33.71803 -84.40774\n",
              "3           3            AUTO THEFT  103040174  ...   Y  33.70731 -84.39674\n",
              "4           4   LARCENY-NON VEHICLE  103040301  ...   M  33.75947 -84.36626\n",
              "\n",
              "[5 rows x 10 columns]"
            ]
          },
          "metadata": {
            "tags": []
          },
          "execution_count": 30
        }
      ]
    },
    {
      "cell_type": "code",
      "metadata": {
        "id": "wk3m5hzNFixf",
        "colab_type": "code",
        "colab": {
          "base_uri": "https://localhost:8080/",
          "height": 221
        },
        "outputId": "94975e22-4c31-4d8a-cf9c-01d27c988a21"
      },
      "source": [
        "atlcrm['crime'].value_counts()"
      ],
      "execution_count": 22,
      "outputs": [
        {
          "output_type": "execute_result",
          "data": {
            "text/plain": [
              "LARCENY-FROM VEHICLE    77345\n",
              "LARCENY-NON VEHICLE     64697\n",
              "BURGLARY-RESIDENCE      42941\n",
              "AUTO THEFT              38168\n",
              "AGG ASSAULT             19133\n",
              "ROBBERY-PEDESTRIAN      14446\n",
              "BURGLARY-NONRES          8505\n",
              "ROBBERY-RESIDENCE        1880\n",
              "ROBBERY-COMMERCIAL       1855\n",
              "RAPE                      990\n",
              "HOMICIDE                  728\n",
              "Name: crime, dtype: int64"
            ]
          },
          "metadata": {
            "tags": []
          },
          "execution_count": 22
        }
      ]
    },
    {
      "cell_type": "code",
      "metadata": {
        "id": "NBajrOp8PlCS",
        "colab_type": "code",
        "colab": {
          "base_uri": "https://localhost:8080/",
          "height": 68
        },
        "outputId": "00f2a769-adb2-405b-bc27-6cdd4f60c49a"
      },
      "source": [
        "# Creat a new categorical varialble  # np.where is usful for creating a new variable. \n",
        "atlcrm['MostEgregious'] = np.where(atlcrm['crime']=='LARCENY-FROM VEHICLE', \"yes\", \"no\")\n",
        "atlcrm['MostEgregious'].value_counts()"
      ],
      "execution_count": 26,
      "outputs": [
        {
          "output_type": "execute_result",
          "data": {
            "text/plain": [
              "no     193343\n",
              "yes     77345\n",
              "Name: MostEgregious, dtype: int64"
            ]
          },
          "metadata": {
            "tags": []
          },
          "execution_count": 26
        }
      ]
    },
    {
      "cell_type": "code",
      "metadata": {
        "id": "uy_3VtgfZuHv",
        "colab_type": "code",
        "colab": {
          "base_uri": "https://localhost:8080/",
          "height": 221
        },
        "outputId": "48d149b8-5711-48c7-b635-a72ab40edafe"
      },
      "source": [
        "#value counts of a cat var\n",
        "atlcrm['neighborhood'].value_counts()"
      ],
      "execution_count": 28,
      "outputs": [
        {
          "output_type": "execute_result",
          "data": {
            "text/plain": [
              "Downtown                19743\n",
              "Midtown                 13732\n",
              "Old Fourth Ward          8078\n",
              "West End                 6932\n",
              "Lenox                    4832\n",
              "                        ...  \n",
              "Chattahoochee              12\n",
              "Mt. Paran Parkway          11\n",
              "Old Fairburn Village       10\n",
              "State Facility              5\n",
              "Englewood Manor             2\n",
              "Name: neighborhood, Length: 242, dtype: int64"
            ]
          },
          "metadata": {
            "tags": []
          },
          "execution_count": 28
        }
      ]
    },
    {
      "cell_type": "code",
      "metadata": {
        "id": "Mpxn1lm3alHW",
        "colab_type": "code",
        "colab": {
          "base_uri": "https://localhost:8080/",
          "height": 136
        },
        "outputId": "acb8416b-3375-4748-e9c8-8f93ec30dbac"
      },
      "source": [
        "# This method is useful for combining stats to shrink the data\n",
        "atlcrm['neighborhood1'] = atlcrm['neighborhood'].map({'Downtown':'The Spot',\n",
        "                                              'Midtown':'The House',\n",
        "                                              'Old Fourth Ward':'Old Hood',\n",
        "                                              'West End':'Da Hood Bruh',\n",
        "                                              'Lenox':'Stay Out',\n",
        "                                              'Chattahoochee':'Other',\n",
        "                                              'Mt. Paran Parkway':'Other',\n",
        "                                              'Old Fairburn Village':'Other',\n",
        "                                              'State Facility':'Other',\n",
        "                                              'Englewood Manor':'Other'})\n",
        "atlcrm['neighborhood1'].value_counts()"
      ],
      "execution_count": 33,
      "outputs": [
        {
          "output_type": "execute_result",
          "data": {
            "text/plain": [
              "The Spot        19743\n",
              "The House       13732\n",
              "Old Hood         8078\n",
              "Da Hood Bruh     6932\n",
              "Stay Out         4832\n",
              "Other              40\n",
              "Name: neighborhood1, dtype: int64"
            ]
          },
          "metadata": {
            "tags": []
          },
          "execution_count": 33
        }
      ]
    },
    {
      "cell_type": "markdown",
      "metadata": {
        "id": "nJ-GGFwKkPjF",
        "colab_type": "text"
      },
      "source": [
        "Ok, we have made two new columns on our small dataset.\n",
        "\n",
        "- What does a **high** `PricePerSqFt` say about a home that the square footage and price alone don't capture as directly?\n",
        "\n",
        "- What does a **low** `PricePerSqFt` say about a home that the square footage and price alone don't directly capture?\n",
        "\n"
      ]
    },
    {
      "cell_type": "markdown",
      "metadata": {
        "id": "3BbCu3ii4LK8",
        "colab_type": "text"
      },
      "source": [
        "## Challenge\n",
        "\n",
        "I hope you can see how we have used existing columns to create a new column on a dataset that say something new about our unit of observation. This is what making new features (columns) on a dataset is all about and why it's so essential to data science --particularly predictive modeling \"Machine Learning.\" \n",
        "\n",
        "We'll spend the rest of the lecture and assignment today trying to get as good as we can at manipulating (cleaning) and creating new columns on datasets."
      ]
    },
    {
      "cell_type": "markdown",
      "metadata": {
        "id": "sKnLv6nGmU8N",
        "colab_type": "text"
      },
      "source": [
        "# [Objective](#work-with-strings) Work with Strings with Pandas"
      ]
    },
    {
      "cell_type": "markdown",
      "metadata": {
        "id": "dqd_Lpb9ntwT",
        "colab_type": "text"
      },
      "source": [
        "## Overview\n",
        "\n",
        "So far we have worked with numeric datatypes (ints and floats) but we haven't worked with any columns containing string values. We can't simply use arithmetic to manipulate string values, so we'll need to learn some more techniques in order to work with this datatype."
      ]
    },
    {
      "cell_type": "markdown",
      "metadata": {
        "id": "c6UBXPhQnxzj",
        "colab_type": "text"
      },
      "source": [
        "## Follow Along\n",
        "\n",
        "We're going to import a new dataset here to work with. This dataset is from LendingClub and holds information about loans issued in Q4 of 2018. This dataset is a bit messy so it will give us plenty of opportunities to clean up existing columns as well as create new ones.\n",
        "\n",
        "The `!wget` shell command being used here does exactly the same thing that your browser does when you type a URL in the address. It makes a request or \"gets\" the file at that address. However, in our case the file isn't a webpage, it's a compressed CSV file. \n",
        "\n",
        "Try copying and pasting the URL from below into your browser, did it start an automatic download? Any URLs like this that start automatic downloads when navigated to can be used along with the `!wget` command to bring files directly into your notebook's memory."
      ]
    },
    {
      "cell_type": "markdown",
      "metadata": {
        "id": "r1SkaCMTsCyT",
        "colab_type": "text"
      },
      "source": [
        "### Load a new dataset"
      ]
    },
    {
      "cell_type": "code",
      "metadata": {
        "id": "MeEKWHB0n2fq",
        "colab_type": "code",
        "colab": {}
      },
      "source": [
        ""
      ],
      "execution_count": 0,
      "outputs": []
    },
    {
      "cell_type": "markdown",
      "metadata": {
        "id": "TqUSbgIJqAB8",
        "colab_type": "text"
      },
      "source": [
        "We need to use the `!unzip` command to extract the csv from the zipped folder."
      ]
    },
    {
      "cell_type": "code",
      "metadata": {
        "id": "Mbw0l5wyqLeI",
        "colab_type": "code",
        "colab": {}
      },
      "source": [
        ""
      ],
      "execution_count": 0,
      "outputs": []
    },
    {
      "cell_type": "markdown",
      "metadata": {
        "id": "ZPB0-7F_qNFT",
        "colab_type": "text"
      },
      "source": [
        "We can also use bash/shell commands to look at the raw file using the `!head` and `!tail` commands"
      ]
    },
    {
      "cell_type": "code",
      "metadata": {
        "id": "ZcWpsAmFqTF4",
        "colab_type": "code",
        "colab": {}
      },
      "source": [
        ""
      ],
      "execution_count": 0,
      "outputs": []
    },
    {
      "cell_type": "code",
      "metadata": {
        "id": "t-uPShUxqa9O",
        "colab_type": "code",
        "colab": {}
      },
      "source": [
        ""
      ],
      "execution_count": 0,
      "outputs": []
    },
    {
      "cell_type": "markdown",
      "metadata": {
        "id": "C_bEBsHTqduT",
        "colab_type": "text"
      },
      "source": [
        "As we look at the raw file itself, do you see anything that might cause us trouble as we read in the CSV file to a dataframe?"
      ]
    },
    {
      "cell_type": "code",
      "metadata": {
        "id": "ikpjHKeiqlWp",
        "colab_type": "code",
        "colab": {}
      },
      "source": [
        "# Read in the CSV"
      ],
      "execution_count": 0,
      "outputs": []
    },
    {
      "cell_type": "markdown",
      "metadata": {
        "id": "wvqwNrQlq5fr",
        "colab_type": "text"
      },
      "source": [
        "The extra rows at the top and bottom of the file have done two things:\n",
        "\n",
        "1) The top row has made it so that the entire dataset is being interpreted as column headers\n",
        "\n",
        "2) The bottom two rows have been read into the 'id' column and are causing every column to have at least two `NaN` values in it."
      ]
    },
    {
      "cell_type": "code",
      "metadata": {
        "id": "PKM5P0RzrLh8",
        "colab_type": "code",
        "colab": {}
      },
      "source": [
        "# We can fix the header problem by using the 'skiprows' parameter"
      ],
      "execution_count": 0,
      "outputs": []
    },
    {
      "cell_type": "markdown",
      "metadata": {
        "id": "CuLO7bhTrY0z",
        "colab_type": "text"
      },
      "source": [
        "Lets look at the NaN values of each column so that you can see the problem that the extra rows at the bottom of the file are creating for us"
      ]
    },
    {
      "cell_type": "code",
      "metadata": {
        "id": "12OtVOd9rdb-",
        "colab_type": "code",
        "colab": {}
      },
      "source": [
        "# Sum null values by column and sort from least to greatest"
      ],
      "execution_count": 0,
      "outputs": []
    },
    {
      "cell_type": "code",
      "metadata": {
        "id": "4793LweyroFI",
        "colab_type": "code",
        "colab": {}
      },
      "source": [
        "# Address the extra NaNs in each column by skipping the footer as well."
      ],
      "execution_count": 0,
      "outputs": []
    },
    {
      "cell_type": "code",
      "metadata": {
        "id": "P7w8iGhyr0Bu",
        "colab_type": "code",
        "colab": {}
      },
      "source": [
        ""
      ],
      "execution_count": 0,
      "outputs": []
    },
    {
      "cell_type": "markdown",
      "metadata": {
        "id": "XzPuC7jUstVF",
        "colab_type": "text"
      },
      "source": [
        "For good measure, we'll also drop some columns that are made up completely of NaN values.\n",
        "\n",
        "Why might LendingClub have included columns in their dataset that are 100% blank?"
      ]
    },
    {
      "cell_type": "code",
      "metadata": {
        "id": "HubXTHZ3sj6n",
        "colab_type": "code",
        "colab": {}
      },
      "source": [
        ""
      ],
      "execution_count": 0,
      "outputs": []
    },
    {
      "cell_type": "markdown",
      "metadata": {
        "id": "87lzDxnCr_6j",
        "colab_type": "text"
      },
      "source": [
        "### Clean up the `int_rate` column\n",
        "\n",
        "When we're preparing a dataset for a machine learning model we typically want to represent don't want to leave any string values in our dataset --because it's hard to do math on words. \n",
        "\n",
        "Specifically, we have a column that is representing a numeric value, but currently doesn't have a numeric datatype. Lets look at the first 10 values of the `int_rate` column"
      ]
    },
    {
      "cell_type": "code",
      "metadata": {
        "id": "wQRxQs3-tnup",
        "colab_type": "code",
        "colab": {}
      },
      "source": [
        "# Look at the first 10 values of the int_rate column"
      ],
      "execution_count": 0,
      "outputs": []
    },
    {
      "cell_type": "code",
      "metadata": {
        "id": "Cu2lMR4wtt-M",
        "colab_type": "code",
        "colab": {}
      },
      "source": [
        "# Look at a specific value from the int_rate column"
      ],
      "execution_count": 0,
      "outputs": []
    },
    {
      "cell_type": "markdown",
      "metadata": {
        "id": "umnBqFa0t22W",
        "colab_type": "text"
      },
      "source": [
        "Problems that we need to address with this column:\n",
        "\n",
        "- String column that should be numeric\n",
        "- Percent Sign `%` included with the number\n",
        "- Leading space at the beginning of the string\n",
        "\n",
        "However, we're not going to try and write exactly the right code to fix this column in one go. We're going to methodically build up to the code that will help us address these problems.\n"
      ]
    },
    {
      "cell_type": "code",
      "metadata": {
        "id": "qveVttHSuVlh",
        "colab_type": "code",
        "colab": {}
      },
      "source": [
        "# Lets start with just fixing a single string.\n",
        "# If we can fix one, we can usually fix all of them"
      ],
      "execution_count": 0,
      "outputs": []
    },
    {
      "cell_type": "code",
      "metadata": {
        "id": "hfFY8nGluouN",
        "colab_type": "code",
        "colab": {}
      },
      "source": [
        ""
      ],
      "execution_count": 0,
      "outputs": []
    },
    {
      "cell_type": "code",
      "metadata": {
        "id": "o3bRlDUbus9m",
        "colab_type": "code",
        "colab": {}
      },
      "source": [
        ""
      ],
      "execution_count": 0,
      "outputs": []
    },
    {
      "cell_type": "code",
      "metadata": {
        "id": "KA-FB2WEuvZr",
        "colab_type": "code",
        "colab": {}
      },
      "source": [
        ""
      ],
      "execution_count": 0,
      "outputs": []
    },
    {
      "cell_type": "code",
      "metadata": {
        "id": "cjhHPbDtuxtU",
        "colab_type": "code",
        "colab": {}
      },
      "source": [
        ""
      ],
      "execution_count": 0,
      "outputs": []
    },
    {
      "cell_type": "code",
      "metadata": {
        "id": "SJd71Boou40s",
        "colab_type": "code",
        "colab": {}
      },
      "source": [
        "# \"Cast\" the string value to a float"
      ],
      "execution_count": 0,
      "outputs": []
    },
    {
      "cell_type": "code",
      "metadata": {
        "id": "kcqneHUmvCs6",
        "colab_type": "code",
        "colab": {}
      },
      "source": [
        ""
      ],
      "execution_count": 0,
      "outputs": []
    },
    {
      "cell_type": "markdown",
      "metadata": {
        "id": "S_bTzHIJvc8M",
        "colab_type": "text"
      },
      "source": [
        "### Write a function to make our solution reusable!"
      ]
    },
    {
      "cell_type": "code",
      "metadata": {
        "id": "GYJYsfQZvVcK",
        "colab_type": "code",
        "colab": {}
      },
      "source": [
        "# Write a function that can do what we have written above to any \n",
        "# string that is passsed to it."
      ],
      "execution_count": 0,
      "outputs": []
    },
    {
      "cell_type": "code",
      "metadata": {
        "id": "Ng3lQFD8vxQt",
        "colab_type": "code",
        "colab": {}
      },
      "source": [
        "# Test out our function by calling it on our example"
      ],
      "execution_count": 0,
      "outputs": []
    },
    {
      "cell_type": "code",
      "metadata": {
        "id": "7cPxk1W9v2ul",
        "colab_type": "code",
        "colab": {}
      },
      "source": [
        "# is the data type correct?"
      ],
      "execution_count": 0,
      "outputs": []
    },
    {
      "cell_type": "markdown",
      "metadata": {
        "id": "hgxdjRqnv-ZH",
        "colab_type": "text"
      },
      "source": [
        "### Apply our solution to every cell in a column"
      ]
    },
    {
      "cell_type": "code",
      "metadata": {
        "id": "eGJmf1IbwE1Q",
        "colab_type": "code",
        "colab": {}
      },
      "source": [
        ""
      ],
      "execution_count": 0,
      "outputs": []
    },
    {
      "cell_type": "code",
      "metadata": {
        "id": "hYCez3j5wLWt",
        "colab_type": "code",
        "colab": {}
      },
      "source": [
        "# What type of data is held in our new column?\n",
        "\n",
        "# Look at the datatypes of the last 5 columns"
      ],
      "execution_count": 0,
      "outputs": []
    },
    {
      "cell_type": "markdown",
      "metadata": {
        "id": "FOXkc5own3LM",
        "colab_type": "text"
      },
      "source": [
        "## Challenge\n",
        "\n",
        "We can create a new column with our cleaned values or overwrite the original, whatever we think best suits our needs. On your assignment you will take the same approach in trying to methodically build up the complexity of your code until you have a few lines that will work for any cell in a column. At that point you'll contain all of that functionality in a reusable function block and then use the `.apply()` function to... well... apply those changes to an entire column."
      ]
    },
    {
      "cell_type": "markdown",
      "metadata": {
        "id": "cllyKRVOmZW1",
        "colab_type": "text"
      },
      "source": [
        "# [Objective](#pandas-apply) Modify and Create Columns using `.apply()`\n",
        "\n"
      ]
    },
    {
      "cell_type": "markdown",
      "metadata": {
        "id": "43763DCYnucE",
        "colab_type": "text"
      },
      "source": [
        "## Overview\n",
        "\n",
        "We're already seen one example of using the `.apply()` function to clean up a column. Lets see if we can do it again, but this time on a slightly more complicated use case.\n",
        "\n",
        "Remember, the goal here is to write a function that will work correctly on any **individual** cell of a specific column. Then we can reuse that function on those individual cells of a dataframe column via the `.apply()` function.\n",
        "\n",
        "Lets clean up the emp_title \"Employment Title\" column!"
      ]
    },
    {
      "cell_type": "markdown",
      "metadata": {
        "id": "mFXxzA7mnyhH",
        "colab_type": "text"
      },
      "source": [
        "## Follow Along\n",
        "\n",
        "First we'll try and diagnose how bad the problem is and what improvements we might be able to make."
      ]
    },
    {
      "cell_type": "code",
      "metadata": {
        "id": "XzkCNMOnxl4h",
        "colab_type": "code",
        "colab": {}
      },
      "source": [
        "# Look at the top 20 employment titles"
      ],
      "execution_count": 0,
      "outputs": []
    },
    {
      "cell_type": "code",
      "metadata": {
        "id": "ja4Qul02x0Tk",
        "colab_type": "code",
        "colab": {}
      },
      "source": [
        "# How many different unique employment titles are there currently?"
      ],
      "execution_count": 0,
      "outputs": []
    },
    {
      "cell_type": "code",
      "metadata": {
        "id": "q1tC-Otax9R3",
        "colab_type": "code",
        "colab": {}
      },
      "source": [
        "# How often is the employment_title null?"
      ],
      "execution_count": 0,
      "outputs": []
    },
    {
      "cell_type": "markdown",
      "metadata": {
        "id": "UddpRG2OyDzC",
        "colab_type": "text"
      },
      "source": [
        "What are some possible reasons as to why a person's employment title may have not been provided?"
      ]
    },
    {
      "cell_type": "code",
      "metadata": {
        "id": "331sx2kVyMwz",
        "colab_type": "code",
        "colab": {}
      },
      "source": [
        "# Create some examples that represent the cases that we want to clean up"
      ],
      "execution_count": 0,
      "outputs": []
    },
    {
      "cell_type": "code",
      "metadata": {
        "id": "yEIPIOUIyUDH",
        "colab_type": "code",
        "colab": {}
      },
      "source": [
        "# Write a function to clean up these use cases and increase uniformity."
      ],
      "execution_count": 0,
      "outputs": []
    },
    {
      "cell_type": "code",
      "metadata": {
        "id": "Sn6jfPUTylvH",
        "colab_type": "code",
        "colab": {}
      },
      "source": [
        "# list comprehensions can combine function calls and for loops over lists\n",
        "# into one succinct and fairly readable single line of code."
      ],
      "execution_count": 0,
      "outputs": []
    },
    {
      "cell_type": "code",
      "metadata": {
        "id": "DNGJgOL4y0y7",
        "colab_type": "code",
        "colab": {}
      },
      "source": [
        "# We have a function that works as expected. Lets apply it to our column.\n",
        "# This time we'll overwrite the original column"
      ],
      "execution_count": 0,
      "outputs": []
    },
    {
      "cell_type": "markdown",
      "metadata": {
        "id": "aPm26DvFzQak",
        "colab_type": "text"
      },
      "source": [
        "We can use the same code as we did earlier to see how much progress was made.\n"
      ]
    },
    {
      "cell_type": "code",
      "metadata": {
        "id": "SKMEkrbFzGPL",
        "colab_type": "code",
        "colab": {}
      },
      "source": [
        "# Look at the top 20 employment titles"
      ],
      "execution_count": 0,
      "outputs": []
    },
    {
      "cell_type": "code",
      "metadata": {
        "id": "eM0oa-10zVCn",
        "colab_type": "code",
        "colab": {}
      },
      "source": [
        "# How many different unique employment titles are there currently?"
      ],
      "execution_count": 0,
      "outputs": []
    },
    {
      "cell_type": "code",
      "metadata": {
        "id": "RKcjoiWgze2x",
        "colab_type": "code",
        "colab": {}
      },
      "source": [
        "# How often is the employment_title null (NaN)?"
      ],
      "execution_count": 0,
      "outputs": []
    },
    {
      "cell_type": "markdown",
      "metadata": {
        "id": "Sj8G-tVKn36v",
        "colab_type": "text"
      },
      "source": [
        "## Challenge\n",
        "\n",
        "Using the .apply() function isn't always about creating new columns on a dataframe, we can use it to clean up or modify existing columns as well. "
      ]
    },
    {
      "cell_type": "markdown",
      "metadata": {
        "id": "m0G8Kv-MmaHh",
        "colab_type": "text"
      },
      "source": [
        "# [Objective](#dates-and-times) Work with Dates and Times with Pandas"
      ]
    },
    {
      "cell_type": "markdown",
      "metadata": {
        "id": "565Xjo-RnvLm",
        "colab_type": "text"
      },
      "source": [
        "## Overview\n",
        "\n",
        "Pandas has its own datatype datatype that makes it extremely convenient to convert strings that are in standard date formates to datetime objects and then use those datetime objects to either create new features on a dataframe or work with the dataset in a timeseries fashion. \n",
        "\n",
        "This section will demonstrate how to take a column of date strings, convert it to a datetime object and then use the datetime formatting `.dt` to access specific parts of the date (year, month, day) to generate useful columns on a dataframe."
      ]
    },
    {
      "cell_type": "markdown",
      "metadata": {
        "id": "YpoU_2Gknzbz",
        "colab_type": "text"
      },
      "source": [
        "## Follow Along"
      ]
    },
    {
      "cell_type": "markdown",
      "metadata": {
        "id": "BoQ86d_R79J6",
        "colab_type": "text"
      },
      "source": [
        "### Work with Dates \n",
        "\n",
        "pandas documentation\n",
        "- [to_datetime](https://pandas.pydata.org/pandas-docs/stable/generated/pandas.to_datetime.html)\n",
        "- [Time/Date Components](https://pandas.pydata.org/pandas-docs/stable/timeseries.html#time-date-components) \"You can access these properties via the `.dt` accessor\"\n",
        "\n",
        "Many of the most useful date columns in this dataset have the suffix `_d` to indicate that they correspond to dates.\n",
        "\n",
        "We'll use a list comprehension to print them out"
      ]
    },
    {
      "cell_type": "code",
      "metadata": {
        "id": "SxOhEaEX76mY",
        "colab_type": "code",
        "colab": {}
      },
      "source": [
        ""
      ],
      "execution_count": 0,
      "outputs": []
    },
    {
      "cell_type": "markdown",
      "metadata": {
        "id": "7wccaSfx9Zo4",
        "colab_type": "text"
      },
      "source": [
        "Lets look at the string format of the `issue_d` column"
      ]
    },
    {
      "cell_type": "code",
      "metadata": {
        "id": "BVYeLIOm9dQ-",
        "colab_type": "code",
        "colab": {}
      },
      "source": [
        ""
      ],
      "execution_count": 0,
      "outputs": []
    },
    {
      "cell_type": "markdown",
      "metadata": {
        "id": "DnjOcU5y9iZh",
        "colab_type": "text"
      },
      "source": [
        "Because this string format %m-%y is a common datetime format, we can just let Pandas detect this format and translate it to the appropriate datetime object."
      ]
    },
    {
      "cell_type": "code",
      "metadata": {
        "id": "cBV3Ta_79qe6",
        "colab_type": "code",
        "colab": {}
      },
      "source": [
        ""
      ],
      "execution_count": 0,
      "outputs": []
    },
    {
      "cell_type": "markdown",
      "metadata": {
        "id": "6hcypFMu9y4s",
        "colab_type": "text"
      },
      "source": [
        "Now we can see that the `issue_d` column has been changed to hold `datetime` objects.\n",
        "\n",
        "Lets look at one of the cells specifically to see what a datetime object looks like:"
      ]
    },
    {
      "cell_type": "code",
      "metadata": {
        "id": "fUMjhnyJ94is",
        "colab_type": "code",
        "colab": {}
      },
      "source": [
        ""
      ],
      "execution_count": 0,
      "outputs": []
    },
    {
      "cell_type": "markdown",
      "metadata": {
        "id": "aZQiLh4O-CMN",
        "colab_type": "text"
      },
      "source": [
        "You can see how the month and year have been indicated by the strings that were contained in the column previously, and that the rest of the values have been inferred."
      ]
    },
    {
      "cell_type": "code",
      "metadata": {
        "id": "6_PhaWzb-J7X",
        "colab_type": "code",
        "colab": {}
      },
      "source": [
        ""
      ],
      "execution_count": 0,
      "outputs": []
    },
    {
      "cell_type": "markdown",
      "metadata": {
        "id": "V3rKmrzY-NsD",
        "colab_type": "text"
      },
      "source": [
        "We can use the `.dt` accessor to now grab specific parts of the datetime object. Lets grab just the year from the all of the cells in the `issue_d` column"
      ]
    },
    {
      "cell_type": "code",
      "metadata": {
        "id": "y4479qzj-Yj5",
        "colab_type": "code",
        "colab": {}
      },
      "source": [
        ""
      ],
      "execution_count": 0,
      "outputs": []
    },
    {
      "cell_type": "markdown",
      "metadata": {
        "id": "coNYQvdJ-b0s",
        "colab_type": "text"
      },
      "source": [
        "Now the month."
      ]
    },
    {
      "cell_type": "code",
      "metadata": {
        "id": "D28keYR3-dJn",
        "colab_type": "code",
        "colab": {}
      },
      "source": [
        ""
      ],
      "execution_count": 0,
      "outputs": []
    },
    {
      "cell_type": "markdown",
      "metadata": {
        "id": "g4_O0q0t-hOX",
        "colab_type": "text"
      },
      "source": [
        "It's just that easy! Now, instead of printing them out, lets add these year and month values as new columns on our dataframe. Again, you'll have to scroll all the way over to the right in the table to see the new columns."
      ]
    },
    {
      "cell_type": "code",
      "metadata": {
        "id": "VJdlhqH1-mri",
        "colab_type": "code",
        "colab": {}
      },
      "source": [
        ""
      ],
      "execution_count": 0,
      "outputs": []
    },
    {
      "cell_type": "markdown",
      "metadata": {
        "id": "LAxig0nE-1kt",
        "colab_type": "text"
      },
      "source": [
        "Because all of these dates come from Q4 of 2018, the `issue_d` column isn't all that interesting. Lets look at the `earliest_cr_line` column, which is also a string, but that could be converted to datetime format.\n",
        "\n",
        "We're going to create a new column called `days_from_earliest_credit_to_issue`\n",
        "\n",
        "It's a long column header, but think about how valuable this piece of information could be. This number will essentially indicate the length of a person's credit history and if that is correlated with repayment or other factors could be a valuable predictor!"
      ]
    },
    {
      "cell_type": "code",
      "metadata": {
        "id": "5S6BDZjp-e8-",
        "colab_type": "code",
        "colab": {}
      },
      "source": [
        ""
      ],
      "execution_count": 0,
      "outputs": []
    },
    {
      "cell_type": "code",
      "metadata": {
        "id": "X0VwXV1F_YpZ",
        "colab_type": "code",
        "colab": {}
      },
      "source": [
        ""
      ],
      "execution_count": 0,
      "outputs": []
    },
    {
      "cell_type": "markdown",
      "metadata": {
        "id": "ml-N769C_e_n",
        "colab_type": "text"
      },
      "source": [
        "What we're about to do is so cool! Pandas' datetime format is so smart that we can simply use the subtraction operator `-` in order to calculate the amount of time between two dates. \n",
        "\n",
        "Think about everything that's going on under the hood in order to give us such straightforward syntax! Handling months of different lengths, leap years, etc. Pandas datetime objects are seriously powerful!"
      ]
    },
    {
      "cell_type": "code",
      "metadata": {
        "id": "FWu1a57V_cHx",
        "colab_type": "code",
        "colab": {}
      },
      "source": [
        ""
      ],
      "execution_count": 0,
      "outputs": []
    },
    {
      "cell_type": "code",
      "metadata": {
        "id": "PvRjLKZo_XRq",
        "colab_type": "code",
        "colab": {}
      },
      "source": [
        ""
      ],
      "execution_count": 0,
      "outputs": []
    },
    {
      "cell_type": "markdown",
      "metadata": {
        "id": "FHQEQZx6_3_p",
        "colab_type": "text"
      },
      "source": [
        "What's oldest credit history that was involved in Q4 2018? "
      ]
    },
    {
      "cell_type": "code",
      "metadata": {
        "id": "nrEqk6hG_20O",
        "colab_type": "code",
        "colab": {}
      },
      "source": [
        ""
      ],
      "execution_count": 0,
      "outputs": []
    },
    {
      "cell_type": "markdown",
      "metadata": {
        "id": "gORWK62cAF2a",
        "colab_type": "text"
      },
      "source": [
        "25,171 days is ~ 68.96 years of credit history!"
      ]
    },
    {
      "cell_type": "markdown",
      "metadata": {
        "id": "THRLJ-7Jn4om",
        "colab_type": "text"
      },
      "source": [
        "## Challenge\n",
        "\n",
        "Pandas' datetime format is so easy to work with that there's really no excuse for not using dates to make features on a dataframe! Get ready to practice more of this on your assignment."
      ]
    }
  ]
}